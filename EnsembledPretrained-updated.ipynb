{
 "cells": [
  {
   "cell_type": "code",
   "execution_count": 1,
   "metadata": {
    "collapsed": true
   },
   "outputs": [],
   "source": [
    "import warnings\n",
    "warnings.filterwarnings('ignore')"
   ]
  },
  {
   "cell_type": "code",
   "execution_count": 2,
   "metadata": {
    "collapsed": true
   },
   "outputs": [],
   "source": [
    "import os\n",
    "from IPython import display\n",
    "import time\n",
    "import shutil\n",
    "import logging\n",
    "import datetime\n",
    "import json\n",
    "from numpy import array"
   ]
  },
  {
   "cell_type": "code",
   "execution_count": 3,
   "metadata": {
    "collapsed": true
   },
   "outputs": [],
   "source": [
    "import numpy as np\n",
    "import pandas as pd"
   ]
  },
  {
   "cell_type": "code",
   "execution_count": 4,
   "metadata": {
    "collapsed": true
   },
   "outputs": [],
   "source": [
    "import matplotlib.pyplot as plt\n",
    "%matplotlib inline"
   ]
  },
  {
   "cell_type": "code",
   "execution_count": 5,
   "metadata": {
    "collapsed": true
   },
   "outputs": [],
   "source": [
    "from sklearn import preprocessing\n",
    "from sklearn.utils import shuffle\n",
    "from sklearn.model_selection import train_test_split, StratifiedShuffleSplit\n",
    "import sklearn.preprocessing as preprocessing\n",
    "from sklearn.preprocessing import LabelEncoder\n",
    "from sklearn.preprocessing import OneHotEncoder"
   ]
  },
  {
   "cell_type": "code",
   "execution_count": 6,
   "metadata": {
    "collapsed": true
   },
   "outputs": [],
   "source": [
    "from PIL import Image"
   ]
  },
  {
   "cell_type": "code",
   "execution_count": 7,
   "metadata": {},
   "outputs": [
    {
     "name": "stderr",
     "output_type": "stream",
     "text": [
      "Using TensorFlow backend.\n"
     ]
    }
   ],
   "source": [
    "from keras.models import Model # basic class for specifying and training a neural network\n",
    "from keras.layers import Input, Convolution2D, MaxPooling2D,ZeroPadding2D, Dense, Dropout, Activation, Flatten\n",
    "from keras.utils import np_utils # utilities for one-hot encoding of ground truth values\n",
    "from keras.layers import BatchNormalization\n",
    "from keras.utils import layer_utils\n",
    "from keras import layers\n",
    "from keras.layers import AveragePooling2D\n",
    "from keras.layers import GlobalAveragePooling2D\n",
    "from keras.models import model_from_json"
   ]
  },
  {
   "cell_type": "code",
   "execution_count": 8,
   "metadata": {
    "collapsed": true
   },
   "outputs": [],
   "source": [
    "from keras.datasets import mnist\n",
    "from keras.models import Sequential\n",
    "from keras.layers import Dense\n",
    "from keras.layers import Dropout\n",
    "from keras.layers import Flatten\n",
    "from keras.layers.convolutional import Conv2D\n",
    "from keras.layers.convolutional import MaxPooling2D\n",
    "from keras.utils import np_utils\n",
    "from keras.utils import to_categorical\n",
    "from keras import backend as K\n",
    "K.set_image_dim_ordering('tf')"
   ]
  },
  {
   "cell_type": "code",
   "execution_count": 9,
   "metadata": {
    "collapsed": true
   },
   "outputs": [],
   "source": [
    "logging.basicConfig(filename='EnsemblePretrained.log',level=logging.DEBUG)\n",
    "ts = datetime.datetime.now()\n",
    "logging.info(\"******************************************************************\")\n",
    "logging.info(\"Execution started at - \"+ts.strftime(\"%Y-%m-%d %H:%M:%S\"))"
   ]
  },
  {
   "cell_type": "markdown",
   "metadata": {},
   "source": [
    "<span style=\"color:#337AFF;font-size:18px;font-weight:bold;\">Custom functions</span>"
   ]
  },
  {
   "cell_type": "code",
   "execution_count": 10,
   "metadata": {
    "collapsed": true
   },
   "outputs": [],
   "source": [
    "def fun_SetWorkingDirectoryPath(directoryPath):\n",
    "    os.chdir(directoryPath)"
   ]
  },
  {
   "cell_type": "code",
   "execution_count": 11,
   "metadata": {
    "collapsed": true
   },
   "outputs": [],
   "source": [
    "def fun_DeleteWorkingDirectory(working_dir_path):\n",
    "    if os.path.exists(working_dir_path):\n",
    "        shutil.rmtree(working_dir_path)\n",
    "        logging.info(\"Deleted Working Directory\")\n",
    "        print(\"Deleted Working Directory Successfully !\")\n",
    "    else:\n",
    "        logging.error(\"Directory Doesn't Exist\")\n",
    "        print(\"Directory Doesn't Exist !\")\n",
    "    print(\"\")"
   ]
  },
  {
   "cell_type": "code",
   "execution_count": 12,
   "metadata": {
    "collapsed": true
   },
   "outputs": [],
   "source": [
    "def fun_CreateWorkingDirectories(directory):\n",
    "    if not os.path.exists(directory):\n",
    "        os.makedirs(directory)\n",
    "        logging.info(directory + \"  -  Created !\")\n",
    "        print(directory + \"  -  Created !\")\n",
    "    print(\"\")"
   ]
  },
  {
   "cell_type": "code",
   "execution_count": 13,
   "metadata": {
    "collapsed": true
   },
   "outputs": [],
   "source": [
    "def fun_GetFilesList(directoryPath):\n",
    "    files_list = []\n",
    "    for root, directories, filenames in os.walk(directoryPath):\n",
    "        for filename in filenames:\n",
    "            iterImage = filename.upper()\n",
    "            if(iterImage.endswith(\".JPG\") or iterImage.endswith(\".JPEG\") or iterImage.endswith(\".PNG\")):\n",
    "                files_list.append(os.path.join(root,filename))\n",
    "    \n",
    "    return(files_list)"
   ]
  },
  {
   "cell_type": "code",
   "execution_count": 14,
   "metadata": {
    "collapsed": true
   },
   "outputs": [],
   "source": [
    "def fun_ConvertImagesToArray(readFile, imageFilesList):\n",
    "    imageFileArray = []\n",
    "    filesReadCount = 0\n",
    "    #for tempImages in imageFilesList:\n",
    "    logging.debug(\"Reading {0} images :\".format(readFile))\n",
    "    print(\"Reading {0} images :\".format(readFile))\n",
    "    for tempImages in log_progress(imageFilesList, every=1):\n",
    "        iterImage = tempImages.upper()\n",
    "        if(iterImage.endswith(\".JPG\") or iterImage.endswith(\".JPEG\") or iterImage.endswith(\".PNG\")):\n",
    "            tempArray = np.array(Image.open(tempImages))\n",
    "            if (len(tempArray.shape))==2:\n",
    "                tempShape = tempArray.shape\n",
    "                tempArray = tempArray.reshape(tempShape[0], tempShape[1], 1)\n",
    "            imageFileArray.append(tempArray)\n",
    "            filesReadCount = filesReadCount + 1\n",
    "    print(\"\")\n",
    "        \n",
    "    return(np.asarray(imageFileArray))"
   ]
  },
  {
   "cell_type": "code",
   "execution_count": 15,
   "metadata": {
    "collapsed": true
   },
   "outputs": [],
   "source": [
    "def fun_GetLabelsFromFileNames(entire_images_list):\n",
    "    Y_Master = []\n",
    "    for image_name in entire_images_list:\n",
    "        try:\n",
    "            temp = image_name.split(\"/\")\n",
    "            Y_Master.append(int(temp[len(temp)-2][1]))\n",
    "        except:\n",
    "            continue\n",
    "    return(Y_Master)"
   ]
  },
  {
   "cell_type": "code",
   "execution_count": 16,
   "metadata": {
    "collapsed": true
   },
   "outputs": [],
   "source": [
    "def fun_ConvertImages(readFile, imageFilesList, resizeHeight=None, resizeWidth=None, isGrayScaledConversion=None):\n",
    "    imageFileArray = []\n",
    "    filesReadCount = 0\n",
    "    logging.debug(\"Converting {0} to the desired format :\".format(readFile))\n",
    "    print(\"Converting {0} to the desired format :\".format(readFile))\n",
    "    for tempImages in log_progress(imageFilesList, every=1):\n",
    "        iterImage = tempImages.upper()\n",
    "        if(iterImage.endswith(\".JPG\") or iterImage.endswith(\".JPEG\") or iterImage.endswith(\".PNG\")):\n",
    "            image=Image.open(tempImages)\n",
    "            \n",
    "            if (resizeHeight is not None and resizeWidth is not None):\n",
    "                image = image.resize((resizeHeight, resizeWidth))\n",
    "\n",
    "            if (isGrayScaledConversion):\n",
    "                image=image.convert('L')\n",
    "\n",
    "            temp = tempImages.replace(\"Complete Dataset\", \"Working Dir\")\n",
    "            image.save(temp)\n",
    "            imageFileArray.append(temp)\n",
    "            filesReadCount = filesReadCount + 1\n",
    "            \n",
    "    return (readFile, imageFileArray)"
   ]
  },
  {
   "cell_type": "code",
   "execution_count": 17,
   "metadata": {
    "collapsed": true
   },
   "outputs": [],
   "source": [
    "def fun_Delete_And_Create_Working_Dir(working_dir_path):\n",
    "    fun_DeleteWorkingDirectory(working_dir_path)\n",
    "    for i in range(0,10):\n",
    "        fun_CreateWorkingDirectories(working_dir_path + \"imgs/train/c\" + str(i))"
   ]
  },
  {
   "cell_type": "code",
   "execution_count": 18,
   "metadata": {
    "collapsed": true
   },
   "outputs": [],
   "source": [
    "def log_progress(sequence, every=None, size=None, name='Items'):\n",
    "    from ipywidgets import IntProgress, HTML, VBox\n",
    "    from IPython.display import display\n",
    "\n",
    "    is_iterator = False\n",
    "    if size is None:\n",
    "        try:\n",
    "            size = len(sequence)\n",
    "        except TypeError:\n",
    "            is_iterator = True\n",
    "    if size is not None:\n",
    "        if every is None:\n",
    "            if size <= 200:\n",
    "                every = 1\n",
    "            else:\n",
    "                every = int(size / 200)     # every 0.5%\n",
    "    else:\n",
    "        assert every is not None, 'sequence is iterator, set every'\n",
    "\n",
    "    if is_iterator:\n",
    "        progress = IntProgress(min=0, max=1, value=1)\n",
    "        progress.bar_style = 'info'\n",
    "    else:\n",
    "        progress = IntProgress(min=0, max=size, value=0)\n",
    "    label = HTML()\n",
    "    box = VBox(children=[label, progress])\n",
    "    display(box)\n",
    "\n",
    "    index = 0\n",
    "    try:\n",
    "        for index, record in enumerate(sequence, 1):\n",
    "            if index == 1 or index % every == 0:\n",
    "                if is_iterator:\n",
    "                    label.value = '{name}: {index} / ?'.format(\n",
    "                        name=name,\n",
    "                        index=index\n",
    "                    )\n",
    "                else:\n",
    "                    progress.value = index\n",
    "                    label.value = u'{name}: {index} / {size}'.format(\n",
    "                        name=name,\n",
    "                        index=index,\n",
    "                        size=size\n",
    "                    )\n",
    "            yield record\n",
    "    except:\n",
    "        progress.bar_style = 'danger'\n",
    "        raise\n",
    "    else:\n",
    "        progress.bar_style = 'success'\n",
    "        progress.value = index\n",
    "        label.value = \"{name}: {index}\".format(\n",
    "            name=name,\n",
    "            index=str(index or '?')\n",
    "        )"
   ]
  },
  {
   "cell_type": "code",
   "execution_count": 19,
   "metadata": {
    "collapsed": true
   },
   "outputs": [],
   "source": [
    "def fun_oneHotEncode(labels):\n",
    "    values = array(labels)\n",
    "    onehot_encoder = OneHotEncoder(sparse=False)\n",
    "    values=values.reshape(len(values), 1)\n",
    "    onehot_encoded = to_categorical(values)\n",
    "    return onehot_encoded"
   ]
  },
  {
   "cell_type": "code",
   "execution_count": 20,
   "metadata": {
    "collapsed": true
   },
   "outputs": [],
   "source": [
    "def save_model(working_dir_path, model, index, cross=''):\n",
    "    print(model)\n",
    "    json_string = model.to_json()\n",
    "    if not os.path.isdir(working_dir_path + '/cache'):\n",
    "        os.mkdir(working_dir_path + '/cache')\n",
    "    json_name = 'architecture' + str(index) + cross + '.json'\n",
    "    weight_name = 'model_weights' + str(index) + cross + '.h5'\n",
    "    open(os.path.join(working_dir_path + '/cache', json_name), 'w').write(json_string)\n",
    "    print(working_dir_path + '/cache')\n",
    "    model.save_weights(os.path.join(working_dir_path + '/cache', weight_name), overwrite=True)"
   ]
  },
  {
   "cell_type": "code",
   "execution_count": 21,
   "metadata": {
    "collapsed": true
   },
   "outputs": [],
   "source": [
    "def read_model(working_dir_path, index, cross=''):\n",
    "    json_name = 'architecture' + str(index) + cross + '.json'\n",
    "    weight_name = 'model_weights' + str(index) + cross + '.h5'\n",
    "    model = model_from_json(open(os.path.join(working_dir_path + '/cache', json_name)).read())\n",
    "    model.load_weights(os.path.join(working_dir_path + '/cache', weight_name),by_name=True)\n",
    "    return model"
   ]
  },
  {
   "cell_type": "code",
   "execution_count": 22,
   "metadata": {
    "collapsed": true
   },
   "outputs": [],
   "source": [
    "def read_model_history(save_model_path, name):\n",
    "    history_json_name = 'modelHistory' + name + '.json'\n",
    "    if os.path.exists(save_model_path + 'cache/' + history_json_name):\n",
    "        history_model = model_from_json(open(os.path.join(save_model_path + 'cache', history_json_name)).read())\n",
    "        return history_model"
   ]
  },
  {
   "cell_type": "code",
   "execution_count": 23,
   "metadata": {
    "collapsed": true
   },
   "outputs": [],
   "source": [
    "def fun_AlexNet_model():\n",
    "    model = Sequential()\n",
    "    \n",
    "    # 1st Convolutional Layer\n",
    "    model.add(Conv2D(filters=96, input_shape=(224,224,3), kernel_size=(11,11),\\\n",
    "                     strides=(4,4), padding='valid'))\n",
    "    model.add(Activation('relu'))\n",
    "    # Pooling \n",
    "    model.add(MaxPooling2D(pool_size=(2,2), strides=(2,2), padding='valid'))\n",
    "    # Batch Normalisation before passing it to the next layer\n",
    "    model.add(BatchNormalization())\n",
    "    \n",
    "    # 2nd Convolutional Layer\n",
    "    model.add(Conv2D(filters=256, kernel_size=(11,11), strides=(1,1), padding='valid'))\n",
    "    model.add(Activation('relu'))\n",
    "    # Pooling\n",
    "    model.add(MaxPooling2D(pool_size=(2,2), strides=(2,2), padding='valid'))\n",
    "    # Batch Normalisation\n",
    "    model.add(BatchNormalization())\n",
    "    \n",
    "    # 3rd Convolutional Layer\n",
    "    model.add(Conv2D(filters=384, kernel_size=(3,3), strides=(1,1), padding='valid'))\n",
    "    model.add(Activation('relu'))\n",
    "    # Batch Normalisation\n",
    "    model.add(BatchNormalization())\n",
    "    \n",
    "    # 4th Convolutional Layer\n",
    "    model.add(Conv2D(filters=384, kernel_size=(3,3), strides=(1,1), padding='valid'))\n",
    "    model.add(Activation('relu'))\n",
    "    # Batch Normalisation\n",
    "    model.add(BatchNormalization())\n",
    "    \n",
    "    # 5th Convolutional Layer\n",
    "    model.add(Conv2D(filters=256, kernel_size=(3,3), strides=(1,1), padding='valid'))\n",
    "    model.add(Activation('relu'))\n",
    "    # Pooling\n",
    "    model.add(MaxPooling2D(pool_size=(2,2), strides=(2,2), padding='valid'))\n",
    "    # Batch Normalisation\n",
    "    model.add(BatchNormalization())\n",
    "\n",
    "    # Passing it to a dense layer\n",
    "    model.add(Flatten())\n",
    "    # 1st Dense Layer\n",
    "    model.add(Dense(4096, input_shape=(224*224*3,)))\n",
    "    model.add(Activation('relu'))\n",
    "    # Add Dropout to prevent overfitting\n",
    "    model.add(Dropout(0.4))\n",
    "    # Batch Normalisation\n",
    "    model.add(BatchNormalization())\n",
    "    \n",
    "    # 2nd Dense Layer\n",
    "    model.add(Dense(4096))\n",
    "    model.add(Activation('relu'))\n",
    "    # Add Dropout\n",
    "    model.add(Dropout(0.4))\n",
    "    # Batch Normalisation\n",
    "    model.add(BatchNormalization())\n",
    "\n",
    "    # 3rd Dense Layer\n",
    "    model.add(Dense(1000))\n",
    "    model.add(Activation('relu'))\n",
    "    # Add Dropout\n",
    "    model.add(Dropout(0.4))\n",
    "    # Batch Normalisation\n",
    "    model.add(BatchNormalization())\n",
    "\n",
    "    # Output Layer\n",
    "    #model.add(Dense(10))\n",
    "    #model.add(Activation('softmax'))\n",
    "\n",
    "    return model"
   ]
  },
  {
   "cell_type": "code",
   "execution_count": 24,
   "metadata": {
    "collapsed": true
   },
   "outputs": [],
   "source": [
    "def evaluate(prediction, true_label):\n",
    "    pred_indices = np.argmax(prediction, 1)\n",
    "    true_indices = np.argmax(true_label, 1)\n",
    "\n",
    "    return np.mean(pred_indices == true_indices)"
   ]
  },
  {
   "cell_type": "code",
   "execution_count": 25,
   "metadata": {
    "collapsed": true
   },
   "outputs": [],
   "source": [
    "def unweighted_average_ensemble(predictions):\n",
    "\n",
    "   # print(\"Predictions \" ,np.asarray(predictions))\n",
    "   # print(\"Mean Predictions \" ,np.mean(np.asarray(predictions), 0))\n",
    "\n",
    "    return np.mean(np.asarray(predictions), 0)"
   ]
  },
  {
   "cell_type": "code",
   "execution_count": 26,
   "metadata": {
    "collapsed": true
   },
   "outputs": [],
   "source": [
    "def majority_voting_ensemble(predictions):\n",
    "\n",
    "    one_hot_predictions = []\n",
    "    \n",
    "    for prediction in predictions:\n",
    "      #  print(\"type before encode \", type(prediction))\n",
    "      #  print(\"before encoding\", prediction.round())\n",
    "        #one_hot_predictions.append(fun_oneHotEncode(np.argmax(prediction, axis = 1)))\n",
    "        #one_hot_predictions.append((np.argmax(prediction, axis = 1)).round())\n",
    "        predargmax = np.argmax(prediction, axis = 1)\n",
    "        #predargmax[0]=9\n",
    "       # print(\"after arg max \", predargmax)\n",
    "        encoded = np_utils.to_categorical(predargmax)\n",
    "        #print(\"after encode \", encoded)\n",
    "        one_hot_predictions.append(encoded)\n",
    "       # one_hot_predictions.append(np_utils.to_categorical(np.argmax(prediction, axis = 1)))\n",
    "        \n",
    "    #convpreds = np.asarray(one_hot_predictions)\n",
    "    #print(\"$$$$$$$$$$$$$\", type(one_hot_predictions))\n",
    "    #print(one_hot_predictions)\n",
    "\n",
    "    return np.sum(one_hot_predictions, 0)"
   ]
  },
  {
   "cell_type": "markdown",
   "metadata": {},
   "source": [
    "<span style=\"color:#337AFF;font-size:18px;font-weight:bold;\">Loading input Data</span>"
   ]
  },
  {
   "cell_type": "code",
   "execution_count": 27,
   "metadata": {
    "collapsed": true
   },
   "outputs": [],
   "source": [
    "source_dir_path = \"/mnt/home/kumar.manjushree_gmail/Capstone/imgs/train/\""
   ]
  },
  {
   "cell_type": "code",
   "execution_count": 28,
   "metadata": {
    "collapsed": true
   },
   "outputs": [],
   "source": [
    "working_dir_path = \"/mnt/home/kumar.manjushree_gmail/Capstone/WorkingDir/\""
   ]
  },
  {
   "cell_type": "code",
   "execution_count": 29,
   "metadata": {},
   "outputs": [
    {
     "data": {
      "text/plain": [
       "'/mnt/home/kumar.manjushree_gmail/Capstone/imgs/train/'"
      ]
     },
     "execution_count": 29,
     "metadata": {},
     "output_type": "execute_result"
    }
   ],
   "source": [
    "source_dir_path"
   ]
  },
  {
   "cell_type": "code",
   "execution_count": 30,
   "metadata": {},
   "outputs": [
    {
     "name": "stdout",
     "output_type": "stream",
     "text": [
      "Deleted Working Directory Successfully !\n",
      "\n",
      "/mnt/home/kumar.manjushree_gmail/Capstone/WorkingDir/imgs/train/c0  -  Created !\n",
      "\n",
      "/mnt/home/kumar.manjushree_gmail/Capstone/WorkingDir/imgs/train/c1  -  Created !\n",
      "\n",
      "/mnt/home/kumar.manjushree_gmail/Capstone/WorkingDir/imgs/train/c2  -  Created !\n",
      "\n",
      "/mnt/home/kumar.manjushree_gmail/Capstone/WorkingDir/imgs/train/c3  -  Created !\n",
      "\n",
      "/mnt/home/kumar.manjushree_gmail/Capstone/WorkingDir/imgs/train/c4  -  Created !\n",
      "\n",
      "/mnt/home/kumar.manjushree_gmail/Capstone/WorkingDir/imgs/train/c5  -  Created !\n",
      "\n",
      "/mnt/home/kumar.manjushree_gmail/Capstone/WorkingDir/imgs/train/c6  -  Created !\n",
      "\n",
      "/mnt/home/kumar.manjushree_gmail/Capstone/WorkingDir/imgs/train/c7  -  Created !\n",
      "\n",
      "/mnt/home/kumar.manjushree_gmail/Capstone/WorkingDir/imgs/train/c8  -  Created !\n",
      "\n",
      "/mnt/home/kumar.manjushree_gmail/Capstone/WorkingDir/imgs/train/c9  -  Created !\n",
      "\n"
     ]
    }
   ],
   "source": [
    "## Cleanse working directory\n",
    "fun_Delete_And_Create_Working_Dir(working_dir_path)"
   ]
  },
  {
   "cell_type": "code",
   "execution_count": 31,
   "metadata": {
    "scrolled": true
   },
   "outputs": [
    {
     "name": "stdout",
     "output_type": "stream",
     "text": [
      "/mnt/home/kumar.manjushree_gmail/Capstone/imgs/train/\n",
      "(entire_images_list) : 22424\n"
     ]
    }
   ],
   "source": [
    "## List of images\n",
    "entire_images_list = fun_GetFilesList(source_dir_path)\n",
    "print(source_dir_path)\n",
    "logging.debug(\"(entire_images_list) :\".format(len(entire_images_list)))\n",
    "print(\"(entire_images_list) :\", len(entire_images_list))"
   ]
  },
  {
   "cell_type": "code",
   "execution_count": 32,
   "metadata": {},
   "outputs": [
    {
     "name": "stdout",
     "output_type": "stream",
     "text": [
      "(entire_labels_list) : 22424\n"
     ]
    }
   ],
   "source": [
    "## List of labels\n",
    "entire_labels_list = fun_GetLabelsFromFileNames(entire_images_list)\n",
    "logging.debug(\"(entire_labels_list) :\".format(len(entire_labels_list)))\n",
    "print(\"(entire_labels_list) :\", len(entire_labels_list))"
   ]
  },
  {
   "cell_type": "code",
   "execution_count": 33,
   "metadata": {
    "collapsed": true
   },
   "outputs": [],
   "source": [
    "## Data frame of training set    \n",
    "filePath_Labels_List_df = pd.DataFrame(\n",
    "                                        {\n",
    "                                            'Files_Path': entire_images_list,\n",
    "                                            'Labels'    : entire_labels_list\n",
    "                                        }\n",
    ")"
   ]
  },
  {
   "cell_type": "code",
   "execution_count": 34,
   "metadata": {
    "collapsed": true
   },
   "outputs": [],
   "source": [
    "## Stratified sample\n",
    "train_test_filePath_Labels_List_df = filePath_Labels_List_df.sample(n=3000, random_state=10)"
   ]
  },
  {
   "cell_type": "code",
   "execution_count": 35,
   "metadata": {
    "collapsed": true
   },
   "outputs": [],
   "source": [
    "num_classes=10"
   ]
  },
  {
   "cell_type": "code",
   "execution_count": 36,
   "metadata": {},
   "outputs": [
    {
     "name": "stdout",
     "output_type": "stream",
     "text": [
      "(Label, Number of Rows) : (0, 350)\n",
      "\n",
      "(Label, Number of Rows) : (1, 297)\n",
      "\n",
      "(Label, Number of Rows) : (2, 314)\n",
      "\n",
      "(Label, Number of Rows) : (3, 310)\n",
      "\n",
      "(Label, Number of Rows) : (4, 297)\n",
      "\n",
      "(Label, Number of Rows) : (5, 335)\n",
      "\n",
      "(Label, Number of Rows) : (6, 277)\n",
      "\n",
      "(Label, Number of Rows) : (7, 266)\n",
      "\n",
      "(Label, Number of Rows) : (8, 246)\n",
      "\n",
      "(Label, Number of Rows) : (9, 308)\n",
      "\n"
     ]
    }
   ],
   "source": [
    "## Shuffling images in sample\n",
    "for i in range(num_classes):\n",
    "    logging.debug(\"(Label, Number of Rows) : ({0}, {1})\".format(i, len(\n",
    "        train_test_filePath_Labels_List_df[train_test_filePath_Labels_List_df[\"Labels\"]==i])))\n",
    "    print(\"(Label, Number of Rows) : ({0}, {1})\".format(i, len(\n",
    "        train_test_filePath_Labels_List_df[train_test_filePath_Labels_List_df[\"Labels\"]==i])))\n",
    "    print(\"\")\n",
    "    train_test_filePath_Labels_List_df_shuffled = train_test_filePath_Labels_List_df.reindex(\n",
    "        np.random.permutation(train_test_filePath_Labels_List_df.index))\n"
   ]
  },
  {
   "cell_type": "code",
   "execution_count": 37,
   "metadata": {},
   "outputs": [
    {
     "data": {
      "text/html": [
       "<div>\n",
       "<style scoped>\n",
       "    .dataframe tbody tr th:only-of-type {\n",
       "        vertical-align: middle;\n",
       "    }\n",
       "\n",
       "    .dataframe tbody tr th {\n",
       "        vertical-align: top;\n",
       "    }\n",
       "\n",
       "    .dataframe thead th {\n",
       "        text-align: right;\n",
       "    }\n",
       "</style>\n",
       "<table border=\"1\" class=\"dataframe\">\n",
       "  <thead>\n",
       "    <tr style=\"text-align: right;\">\n",
       "      <th></th>\n",
       "      <th>Files_Path</th>\n",
       "      <th>Labels</th>\n",
       "    </tr>\n",
       "  </thead>\n",
       "  <tbody>\n",
       "    <tr>\n",
       "      <th>15284</th>\n",
       "      <td>/mnt/home/kumar.manjushree_gmail/Capstone/imgs...</td>\n",
       "      <td>3</td>\n",
       "    </tr>\n",
       "    <tr>\n",
       "      <th>4438</th>\n",
       "      <td>/mnt/home/kumar.manjushree_gmail/Capstone/imgs...</td>\n",
       "      <td>7</td>\n",
       "    </tr>\n",
       "    <tr>\n",
       "      <th>5549</th>\n",
       "      <td>/mnt/home/kumar.manjushree_gmail/Capstone/imgs...</td>\n",
       "      <td>7</td>\n",
       "    </tr>\n",
       "    <tr>\n",
       "      <th>14373</th>\n",
       "      <td>/mnt/home/kumar.manjushree_gmail/Capstone/imgs...</td>\n",
       "      <td>3</td>\n",
       "    </tr>\n",
       "    <tr>\n",
       "      <th>15376</th>\n",
       "      <td>/mnt/home/kumar.manjushree_gmail/Capstone/imgs...</td>\n",
       "      <td>2</td>\n",
       "    </tr>\n",
       "    <tr>\n",
       "      <th>6526</th>\n",
       "      <td>/mnt/home/kumar.manjushree_gmail/Capstone/imgs...</td>\n",
       "      <td>6</td>\n",
       "    </tr>\n",
       "    <tr>\n",
       "      <th>17165</th>\n",
       "      <td>/mnt/home/kumar.manjushree_gmail/Capstone/imgs...</td>\n",
       "      <td>2</td>\n",
       "    </tr>\n",
       "    <tr>\n",
       "      <th>15350</th>\n",
       "      <td>/mnt/home/kumar.manjushree_gmail/Capstone/imgs...</td>\n",
       "      <td>3</td>\n",
       "    </tr>\n",
       "    <tr>\n",
       "      <th>12548</th>\n",
       "      <td>/mnt/home/kumar.manjushree_gmail/Capstone/imgs...</td>\n",
       "      <td>4</td>\n",
       "    </tr>\n",
       "    <tr>\n",
       "      <th>9907</th>\n",
       "      <td>/mnt/home/kumar.manjushree_gmail/Capstone/imgs...</td>\n",
       "      <td>5</td>\n",
       "    </tr>\n",
       "  </tbody>\n",
       "</table>\n",
       "</div>"
      ],
      "text/plain": [
       "                                              Files_Path  Labels\n",
       "15284  /mnt/home/kumar.manjushree_gmail/Capstone/imgs...       3\n",
       "4438   /mnt/home/kumar.manjushree_gmail/Capstone/imgs...       7\n",
       "5549   /mnt/home/kumar.manjushree_gmail/Capstone/imgs...       7\n",
       "14373  /mnt/home/kumar.manjushree_gmail/Capstone/imgs...       3\n",
       "15376  /mnt/home/kumar.manjushree_gmail/Capstone/imgs...       2\n",
       "6526   /mnt/home/kumar.manjushree_gmail/Capstone/imgs...       6\n",
       "17165  /mnt/home/kumar.manjushree_gmail/Capstone/imgs...       2\n",
       "15350  /mnt/home/kumar.manjushree_gmail/Capstone/imgs...       3\n",
       "12548  /mnt/home/kumar.manjushree_gmail/Capstone/imgs...       4\n",
       "9907   /mnt/home/kumar.manjushree_gmail/Capstone/imgs...       5"
      ]
     },
     "execution_count": 37,
     "metadata": {},
     "output_type": "execute_result"
    }
   ],
   "source": [
    "train_test_filePath_Labels_List_df_shuffled.head(10)"
   ]
  },
  {
   "cell_type": "markdown",
   "metadata": {},
   "source": [
    "<span style=\"color:#337AFF;font-size:18px;font-weight:bold;\">Splitting and preprocessing</span>"
   ]
  },
  {
   "cell_type": "code",
   "execution_count": 38,
   "metadata": {},
   "outputs": [
    {
     "name": "stdout",
     "output_type": "stream",
     "text": [
      "(X_train, Y_train) : ({0}, {1}) 2100 2100\n",
      "(X_test, Y_test)   : ({0}, {1}) 900 900\n",
      "\n"
     ]
    }
   ],
   "source": [
    "## Split into train and test\n",
    "X_train, X_test, Y_train, Y_test = (train_test_split(\n",
    "                                                train_test_filePath_Labels_List_df_shuffled[\"Files_Path\"], \n",
    "                                                train_test_filePath_Labels_List_df_shuffled[\"Labels\"], \n",
    "                                                test_size = 0.3,\n",
    "                                                random_state = 10\n",
    "                                            )\n",
    "                                   )\n",
    "logging.debug(\"(X_train, Y_train) : ({0}, {1})\".format(len(X_train), len(Y_train)))\n",
    "print(\"(X_train, Y_train) : ({0}, {1})\", len(X_train), len(Y_train))\n",
    "logging.debug(\"(X_test, Y_test)   : ({0}, {1})\".format(len(X_test), len(Y_test)))\n",
    "print(\"(X_test, Y_test)   : ({0}, {1})\", len(X_test), len(Y_test))\n",
    "print(\"\")"
   ]
  },
  {
   "cell_type": "code",
   "execution_count": 39,
   "metadata": {},
   "outputs": [
    {
     "data": {
      "text/plain": [
       "(2100,)"
      ]
     },
     "execution_count": 39,
     "metadata": {},
     "output_type": "execute_result"
    }
   ],
   "source": [
    "X_train.shape"
   ]
  },
  {
   "cell_type": "code",
   "execution_count": 40,
   "metadata": {},
   "outputs": [
    {
     "data": {
      "text/plain": [
       "(2100,)"
      ]
     },
     "execution_count": 40,
     "metadata": {},
     "output_type": "execute_result"
    }
   ],
   "source": [
    "Y_train.shape"
   ]
  },
  {
   "cell_type": "code",
   "execution_count": 41,
   "metadata": {},
   "outputs": [
    {
     "data": {
      "text/plain": [
       "(900,)"
      ]
     },
     "execution_count": 41,
     "metadata": {},
     "output_type": "execute_result"
    }
   ],
   "source": [
    "Y_test.shape"
   ]
  },
  {
   "cell_type": "code",
   "execution_count": 42,
   "metadata": {},
   "outputs": [
    {
     "name": "stdout",
     "output_type": "stream",
     "text": [
      "Converting X_train to the desired format :\n"
     ]
    },
    {
     "data": {
      "application/vnd.jupyter.widget-view+json": {
       "model_id": "bc19cd28ba8d40e196f2abd2f5cc8b59",
       "version_major": 2,
       "version_minor": 0
      },
      "text/plain": [
       "A Jupyter Widget"
      ]
     },
     "metadata": {},
     "output_type": "display_data"
    }
   ],
   "source": [
    "## Resize train images\n",
    "    \n",
    "(readFile, imageFileArray) = fun_ConvertImages(\n",
    "                            readFile=\"X_train\",\n",
    "                            imageFilesList=X_train, \n",
    "                            resizeHeight=224, \n",
    "                            resizeWidth=224, \n",
    "                            isGrayScaledConversion=False\n",
    "                    )\n",
    "    "
   ]
  },
  {
   "cell_type": "code",
   "execution_count": 43,
   "metadata": {},
   "outputs": [
    {
     "name": "stdout",
     "output_type": "stream",
     "text": [
      "Reading X_train images :\n"
     ]
    },
    {
     "data": {
      "application/vnd.jupyter.widget-view+json": {
       "model_id": "7c593950bd964f50ae9cfa82a9b460b2",
       "version_major": 2,
       "version_minor": 0
      },
      "text/plain": [
       "A Jupyter Widget"
      ]
     },
     "metadata": {},
     "output_type": "display_data"
    },
    {
     "name": "stdout",
     "output_type": "stream",
     "text": [
      "\n"
     ]
    }
   ],
   "source": [
    "## Convert train images to Array\n",
    "X_train = fun_ConvertImagesToArray(\n",
    "                   readFile,\n",
    "                   imageFileArray\n",
    "              )\n",
    "    \n",
    "X_train = X_train.astype('float32') \n",
    "#Y_train = Y_train.astype('float32') "
   ]
  },
  {
   "cell_type": "code",
   "execution_count": 44,
   "metadata": {},
   "outputs": [
    {
     "name": "stdout",
     "output_type": "stream",
     "text": [
      "(X_train.shape, Y_train.shape) : ((2100, 224, 224, 3), (2100,))\n"
     ]
    }
   ],
   "source": [
    "# Normalise data to [0, 1] range\n",
    "X_train /= np.max(X_train)\n",
    "#Y_train /= np.max(Y_train)\n",
    "    \n",
    "logging.debug(\"(X_train.shape, Y_train.shape) : ({0}, {1})\".format(X_train.shape, Y_train.shape))\n",
    "print(\"(X_train.shape, Y_train.shape) : ({0}, {1})\".format(X_train.shape, Y_train.shape))"
   ]
  },
  {
   "cell_type": "code",
   "execution_count": 45,
   "metadata": {
    "collapsed": true
   },
   "outputs": [],
   "source": [
    "# One-hot encode the train labels\n",
    "Y_train = fun_oneHotEncode(Y_train)"
   ]
  },
  {
   "cell_type": "code",
   "execution_count": 46,
   "metadata": {},
   "outputs": [
    {
     "name": "stdout",
     "output_type": "stream",
     "text": [
      "Converting X_test to the desired format :\n"
     ]
    },
    {
     "data": {
      "application/vnd.jupyter.widget-view+json": {
       "model_id": "6b88231433ba464ca292c665f1d3a7dd",
       "version_major": 2,
       "version_minor": 0
      },
      "text/plain": [
       "A Jupyter Widget"
      ]
     },
     "metadata": {},
     "output_type": "display_data"
    }
   ],
   "source": [
    "## Resize test images\n",
    "(readFile, imageFileArray) = fun_ConvertImages(\n",
    "                        readFile=\"X_test\",\n",
    "                        imageFilesList=X_test, \n",
    "                        resizeHeight=224, \n",
    "                        resizeWidth=224, \n",
    "                        isGrayScaledConversion=False\n",
    "                )"
   ]
  },
  {
   "cell_type": "code",
   "execution_count": 47,
   "metadata": {},
   "outputs": [
    {
     "name": "stdout",
     "output_type": "stream",
     "text": [
      "Reading X_test images :\n"
     ]
    },
    {
     "data": {
      "application/vnd.jupyter.widget-view+json": {
       "model_id": "f1517fb7710d4427849e62bb37f6dcbf",
       "version_major": 2,
       "version_minor": 0
      },
      "text/plain": [
       "A Jupyter Widget"
      ]
     },
     "metadata": {},
     "output_type": "display_data"
    },
    {
     "name": "stdout",
     "output_type": "stream",
     "text": [
      "\n"
     ]
    }
   ],
   "source": [
    "## Convert test images to Array\n",
    "X_test  = fun_ConvertImagesToArray(\n",
    "                       readFile,\n",
    "                       imageFileArray\n",
    "                  )\n",
    "        \n",
    "X_test = X_test.astype('float32') \n",
    "#Y_test = Y_test.astype('float32')"
   ]
  },
  {
   "cell_type": "code",
   "execution_count": 48,
   "metadata": {},
   "outputs": [
    {
     "name": "stdout",
     "output_type": "stream",
     "text": [
      "(X_test.shape, Y_test.shape) : ((900, 224, 224, 3), (900,))\n"
     ]
    }
   ],
   "source": [
    "# Normalise data to [0, 1] range\n",
    "X_test /= np.max(X_test)\n",
    "#Y_test /= np.max(Y_test)\n",
    "logging.debug(\"(X_test.shape, Y_test.shape) : ({0}, {1})\".format(X_test.shape, Y_test.shape))\n",
    "print(\"(X_test.shape, Y_test.shape) : ({0}, {1})\".format(X_test.shape, Y_test.shape))    "
   ]
  },
  {
   "cell_type": "code",
   "execution_count": 49,
   "metadata": {
    "collapsed": true
   },
   "outputs": [],
   "source": [
    "# One-hot encode the test labels\n",
    "Y_test = fun_oneHotEncode(Y_test)"
   ]
  },
  {
   "cell_type": "code",
   "execution_count": 50,
   "metadata": {
    "collapsed": true
   },
   "outputs": [],
   "source": [
    "## Prepare input\n",
    "img_rows, img_cols, img_channel = 224, 224, 3\n",
    "img_shape=(img_rows, img_cols, img_channel)"
   ]
  },
  {
   "cell_type": "markdown",
   "metadata": {},
   "source": [
    "<span style=\"color:#337AFF;font-size:18px;font-weight:bold;\">Defining models</span>"
   ]
  },
  {
   "cell_type": "code",
   "execution_count": 51,
   "metadata": {
    "collapsed": true
   },
   "outputs": [],
   "source": [
    "from keras import optimizers\n",
    "from keras.applications.vgg16 import VGG16\n",
    "from keras.preprocessing.image import ImageDataGenerator\n",
    "from keras.callbacks import EarlyStopping\n",
    "from keras.applications.resnet50 import ResNet50,preprocess_input\n",
    "from keras.applications.mobilenet import MobileNet"
   ]
  },
  {
   "cell_type": "code",
   "execution_count": 52,
   "metadata": {
    "collapsed": true
   },
   "outputs": [],
   "source": [
    "loss=\"categorical_crossentropy\"\n",
    "optimizer=\"adam\"\n",
    "metrics=\"accuracy\"\n",
    "batch_size = 64\n",
    "num_epochs = 20\n",
    "validation_split=0.2\n",
    "estimators=[]"
   ]
  },
  {
   "cell_type": "markdown",
   "metadata": {},
   "source": [
    "<span style=\"color:#337AFF;font-size:14 px;font-weight:bold;\">VGG 16</span>"
   ]
  },
  {
   "cell_type": "code",
   "execution_count": 53,
   "metadata": {
    "collapsed": true
   },
   "outputs": [],
   "source": [
    "base_model = VGG16(weights='imagenet', include_top=False, input_shape=(img_rows, img_cols, img_channel))\n",
    "add_model = Sequential()\n",
    "add_model.add(Flatten(input_shape=base_model.output_shape[1:]))\n",
    "add_model.add(Dense(10, activation='softmax'))\n",
    "vgg16model = Model(inputs=base_model.input, outputs=add_model(base_model.output))\n",
    "estimators.append(('vgg16', vgg16model))"
   ]
  },
  {
   "cell_type": "code",
   "execution_count": 54,
   "metadata": {
    "collapsed": true
   },
   "outputs": [],
   "source": [
    "vgg16model.compile(loss=loss, optimizer=optimizers.SGD(lr=1e-4, momentum=0.9),\n",
    "              metrics=['accuracy'])\n",
    "earlyStop=EarlyStopping(monitor='val_acc', min_delta=0.001, patience=5, \\\n",
    "                          verbose=1, mode='auto')\n",
    "callback = [earlyStop]"
   ]
  },
  {
   "cell_type": "code",
   "execution_count": 55,
   "metadata": {},
   "outputs": [
    {
     "name": "stdout",
     "output_type": "stream",
     "text": [
      "_________________________________________________________________\n",
      "Layer (type)                 Output Shape              Param #   \n",
      "=================================================================\n",
      "input_1 (InputLayer)         (None, 224, 224, 3)       0         \n",
      "_________________________________________________________________\n",
      "block1_conv1 (Conv2D)        (None, 224, 224, 64)      1792      \n",
      "_________________________________________________________________\n",
      "block1_conv2 (Conv2D)        (None, 224, 224, 64)      36928     \n",
      "_________________________________________________________________\n",
      "block1_pool (MaxPooling2D)   (None, 112, 112, 64)      0         \n",
      "_________________________________________________________________\n",
      "block2_conv1 (Conv2D)        (None, 112, 112, 128)     73856     \n",
      "_________________________________________________________________\n",
      "block2_conv2 (Conv2D)        (None, 112, 112, 128)     147584    \n",
      "_________________________________________________________________\n",
      "block2_pool (MaxPooling2D)   (None, 56, 56, 128)       0         \n",
      "_________________________________________________________________\n",
      "block3_conv1 (Conv2D)        (None, 56, 56, 256)       295168    \n",
      "_________________________________________________________________\n",
      "block3_conv2 (Conv2D)        (None, 56, 56, 256)       590080    \n",
      "_________________________________________________________________\n",
      "block3_conv3 (Conv2D)        (None, 56, 56, 256)       590080    \n",
      "_________________________________________________________________\n",
      "block3_pool (MaxPooling2D)   (None, 28, 28, 256)       0         \n",
      "_________________________________________________________________\n",
      "block4_conv1 (Conv2D)        (None, 28, 28, 512)       1180160   \n",
      "_________________________________________________________________\n",
      "block4_conv2 (Conv2D)        (None, 28, 28, 512)       2359808   \n",
      "_________________________________________________________________\n",
      "block4_conv3 (Conv2D)        (None, 28, 28, 512)       2359808   \n",
      "_________________________________________________________________\n",
      "block4_pool (MaxPooling2D)   (None, 14, 14, 512)       0         \n",
      "_________________________________________________________________\n",
      "block5_conv1 (Conv2D)        (None, 14, 14, 512)       2359808   \n",
      "_________________________________________________________________\n",
      "block5_conv2 (Conv2D)        (None, 14, 14, 512)       2359808   \n",
      "_________________________________________________________________\n",
      "block5_conv3 (Conv2D)        (None, 14, 14, 512)       2359808   \n",
      "_________________________________________________________________\n",
      "block5_pool (MaxPooling2D)   (None, 7, 7, 512)         0         \n",
      "_________________________________________________________________\n",
      "sequential_1 (Sequential)    (None, 10)                250890    \n",
      "=================================================================\n",
      "Total params: 14,965,578\n",
      "Trainable params: 14,965,578\n",
      "Non-trainable params: 0\n",
      "_________________________________________________________________\n"
     ]
    }
   ],
   "source": [
    "vgg16model.summary()"
   ]
  },
  {
   "cell_type": "markdown",
   "metadata": {},
   "source": [
    "<span style=\"color:#337AFF;font-size:14px;font-weight:bold;\">AlexNet</span>"
   ]
  },
  {
   "cell_type": "code",
   "execution_count": 56,
   "metadata": {
    "collapsed": true
   },
   "outputs": [],
   "source": [
    "base_model = fun_AlexNet_model()"
   ]
  },
  {
   "cell_type": "code",
   "execution_count": 57,
   "metadata": {
    "collapsed": true
   },
   "outputs": [],
   "source": [
    "x = base_model.output\n",
    "#x = Flatten()(x)\n",
    "predictions = Dense(num_classes, activation='softmax', name='fc10')(x)"
   ]
  },
  {
   "cell_type": "code",
   "execution_count": 58,
   "metadata": {
    "collapsed": true
   },
   "outputs": [],
   "source": [
    "alexnetmodel = Model(input=base_model.input, output=predictions)\n",
    "estimators.append(('alexnet', alexnetmodel))"
   ]
  },
  {
   "cell_type": "code",
   "execution_count": 59,
   "metadata": {
    "collapsed": true
   },
   "outputs": [],
   "source": [
    "## Compile and fit model\n",
    "alexnetmodel.compile(loss=loss, optimizer=optimizer, metrics=[metrics])\n",
    "earlyStop=EarlyStopping(monitor='val_acc', min_delta=0.001, patience=5, \\\n",
    "                          verbose=1, mode='auto')\n",
    "callback = [earlyStop]"
   ]
  },
  {
   "cell_type": "code",
   "execution_count": 60,
   "metadata": {},
   "outputs": [
    {
     "name": "stdout",
     "output_type": "stream",
     "text": [
      "_________________________________________________________________\n",
      "Layer (type)                 Output Shape              Param #   \n",
      "=================================================================\n",
      "conv2d_1_input (InputLayer)  (None, 224, 224, 3)       0         \n",
      "_________________________________________________________________\n",
      "conv2d_1 (Conv2D)            (None, 54, 54, 96)        34944     \n",
      "_________________________________________________________________\n",
      "activation_1 (Activation)    (None, 54, 54, 96)        0         \n",
      "_________________________________________________________________\n",
      "max_pooling2d_1 (MaxPooling2 (None, 27, 27, 96)        0         \n",
      "_________________________________________________________________\n",
      "batch_normalization_1 (Batch (None, 27, 27, 96)        384       \n",
      "_________________________________________________________________\n",
      "conv2d_2 (Conv2D)            (None, 17, 17, 256)       2973952   \n",
      "_________________________________________________________________\n",
      "activation_2 (Activation)    (None, 17, 17, 256)       0         \n",
      "_________________________________________________________________\n",
      "max_pooling2d_2 (MaxPooling2 (None, 8, 8, 256)         0         \n",
      "_________________________________________________________________\n",
      "batch_normalization_2 (Batch (None, 8, 8, 256)         1024      \n",
      "_________________________________________________________________\n",
      "conv2d_3 (Conv2D)            (None, 6, 6, 384)         885120    \n",
      "_________________________________________________________________\n",
      "activation_3 (Activation)    (None, 6, 6, 384)         0         \n",
      "_________________________________________________________________\n",
      "batch_normalization_3 (Batch (None, 6, 6, 384)         1536      \n",
      "_________________________________________________________________\n",
      "conv2d_4 (Conv2D)            (None, 4, 4, 384)         1327488   \n",
      "_________________________________________________________________\n",
      "activation_4 (Activation)    (None, 4, 4, 384)         0         \n",
      "_________________________________________________________________\n",
      "batch_normalization_4 (Batch (None, 4, 4, 384)         1536      \n",
      "_________________________________________________________________\n",
      "conv2d_5 (Conv2D)            (None, 2, 2, 256)         884992    \n",
      "_________________________________________________________________\n",
      "activation_5 (Activation)    (None, 2, 2, 256)         0         \n",
      "_________________________________________________________________\n",
      "max_pooling2d_3 (MaxPooling2 (None, 1, 1, 256)         0         \n",
      "_________________________________________________________________\n",
      "batch_normalization_5 (Batch (None, 1, 1, 256)         1024      \n",
      "_________________________________________________________________\n",
      "flatten_2 (Flatten)          (None, 256)               0         \n",
      "_________________________________________________________________\n",
      "dense_2 (Dense)              (None, 4096)              1052672   \n",
      "_________________________________________________________________\n",
      "activation_6 (Activation)    (None, 4096)              0         \n",
      "_________________________________________________________________\n",
      "dropout_1 (Dropout)          (None, 4096)              0         \n",
      "_________________________________________________________________\n",
      "batch_normalization_6 (Batch (None, 4096)              16384     \n",
      "_________________________________________________________________\n",
      "dense_3 (Dense)              (None, 4096)              16781312  \n",
      "_________________________________________________________________\n",
      "activation_7 (Activation)    (None, 4096)              0         \n",
      "_________________________________________________________________\n",
      "dropout_2 (Dropout)          (None, 4096)              0         \n",
      "_________________________________________________________________\n",
      "batch_normalization_7 (Batch (None, 4096)              16384     \n",
      "_________________________________________________________________\n",
      "dense_4 (Dense)              (None, 1000)              4097000   \n",
      "_________________________________________________________________\n",
      "activation_8 (Activation)    (None, 1000)              0         \n",
      "_________________________________________________________________\n",
      "dropout_3 (Dropout)          (None, 1000)              0         \n",
      "_________________________________________________________________\n",
      "batch_normalization_8 (Batch (None, 1000)              4000      \n",
      "_________________________________________________________________\n",
      "fc10 (Dense)                 (None, 10)                10010     \n",
      "=================================================================\n",
      "Total params: 28,089,762\n",
      "Trainable params: 28,068,626\n",
      "Non-trainable params: 21,136\n",
      "_________________________________________________________________\n"
     ]
    }
   ],
   "source": [
    "alexnetmodel.summary()"
   ]
  },
  {
   "cell_type": "markdown",
   "metadata": {},
   "source": [
    "<span style=\"color:#337AFF;font-size:14px;font-weight:bold;\">ResNet50</span>"
   ]
  },
  {
   "cell_type": "code",
   "execution_count": 61,
   "metadata": {
    "collapsed": true
   },
   "outputs": [],
   "source": [
    "base_model = ResNet50(include_top=False, weights='imagenet', input_tensor=None, input_shape=img_shape)"
   ]
  },
  {
   "cell_type": "code",
   "execution_count": 62,
   "metadata": {
    "collapsed": true
   },
   "outputs": [],
   "source": [
    "x = base_model.output\n",
    "x = Flatten()(x)\n",
    "predictions = Dense(num_classes, activation='softmax', name='fc1000')(x)"
   ]
  },
  {
   "cell_type": "code",
   "execution_count": 63,
   "metadata": {
    "collapsed": true
   },
   "outputs": [],
   "source": [
    "resnetmodel = Model(input=base_model.input, output=predictions)\n",
    "estimators.append(('resnet', resnetmodel))"
   ]
  },
  {
   "cell_type": "code",
   "execution_count": 78,
   "metadata": {
    "collapsed": true
   },
   "outputs": [],
   "source": [
    "## Compile and fit model\n",
    "resnetmodel.compile(loss=loss, optimizer=optimizer, metrics=[metrics])\n",
    "earlyStop=EarlyStopping(monitor='val_loss', min_delta=0.001, patience=5, \\\n",
    "                          verbose=1, mode='auto')\n",
    "callback = [earlyStop]"
   ]
  },
  {
   "cell_type": "code",
   "execution_count": 79,
   "metadata": {},
   "outputs": [
    {
     "name": "stdout",
     "output_type": "stream",
     "text": [
      "__________________________________________________________________________________________________\n",
      "Layer (type)                    Output Shape         Param #     Connected to                     \n",
      "==================================================================================================\n",
      "input_2 (InputLayer)            (None, 224, 224, 3)  0                                            \n",
      "__________________________________________________________________________________________________\n",
      "conv1_pad (ZeroPadding2D)       (None, 230, 230, 3)  0           input_2[0][0]                    \n",
      "__________________________________________________________________________________________________\n",
      "conv1 (Conv2D)                  (None, 112, 112, 64) 9472        conv1_pad[0][0]                  \n",
      "__________________________________________________________________________________________________\n",
      "bn_conv1 (BatchNormalization)   (None, 112, 112, 64) 256         conv1[0][0]                      \n",
      "__________________________________________________________________________________________________\n",
      "activation_9 (Activation)       (None, 112, 112, 64) 0           bn_conv1[0][0]                   \n",
      "__________________________________________________________________________________________________\n",
      "max_pooling2d_4 (MaxPooling2D)  (None, 55, 55, 64)   0           activation_9[0][0]               \n",
      "__________________________________________________________________________________________________\n",
      "res2a_branch2a (Conv2D)         (None, 55, 55, 64)   4160        max_pooling2d_4[0][0]            \n",
      "__________________________________________________________________________________________________\n",
      "bn2a_branch2a (BatchNormalizati (None, 55, 55, 64)   256         res2a_branch2a[0][0]             \n",
      "__________________________________________________________________________________________________\n",
      "activation_10 (Activation)      (None, 55, 55, 64)   0           bn2a_branch2a[0][0]              \n",
      "__________________________________________________________________________________________________\n",
      "res2a_branch2b (Conv2D)         (None, 55, 55, 64)   36928       activation_10[0][0]              \n",
      "__________________________________________________________________________________________________\n",
      "bn2a_branch2b (BatchNormalizati (None, 55, 55, 64)   256         res2a_branch2b[0][0]             \n",
      "__________________________________________________________________________________________________\n",
      "activation_11 (Activation)      (None, 55, 55, 64)   0           bn2a_branch2b[0][0]              \n",
      "__________________________________________________________________________________________________\n",
      "res2a_branch2c (Conv2D)         (None, 55, 55, 256)  16640       activation_11[0][0]              \n",
      "__________________________________________________________________________________________________\n",
      "res2a_branch1 (Conv2D)          (None, 55, 55, 256)  16640       max_pooling2d_4[0][0]            \n",
      "__________________________________________________________________________________________________\n",
      "bn2a_branch2c (BatchNormalizati (None, 55, 55, 256)  1024        res2a_branch2c[0][0]             \n",
      "__________________________________________________________________________________________________\n",
      "bn2a_branch1 (BatchNormalizatio (None, 55, 55, 256)  1024        res2a_branch1[0][0]              \n",
      "__________________________________________________________________________________________________\n",
      "add_1 (Add)                     (None, 55, 55, 256)  0           bn2a_branch2c[0][0]              \n",
      "                                                                 bn2a_branch1[0][0]               \n",
      "__________________________________________________________________________________________________\n",
      "activation_12 (Activation)      (None, 55, 55, 256)  0           add_1[0][0]                      \n",
      "__________________________________________________________________________________________________\n",
      "res2b_branch2a (Conv2D)         (None, 55, 55, 64)   16448       activation_12[0][0]              \n",
      "__________________________________________________________________________________________________\n",
      "bn2b_branch2a (BatchNormalizati (None, 55, 55, 64)   256         res2b_branch2a[0][0]             \n",
      "__________________________________________________________________________________________________\n",
      "activation_13 (Activation)      (None, 55, 55, 64)   0           bn2b_branch2a[0][0]              \n",
      "__________________________________________________________________________________________________\n",
      "res2b_branch2b (Conv2D)         (None, 55, 55, 64)   36928       activation_13[0][0]              \n",
      "__________________________________________________________________________________________________\n",
      "bn2b_branch2b (BatchNormalizati (None, 55, 55, 64)   256         res2b_branch2b[0][0]             \n",
      "__________________________________________________________________________________________________\n",
      "activation_14 (Activation)      (None, 55, 55, 64)   0           bn2b_branch2b[0][0]              \n",
      "__________________________________________________________________________________________________\n",
      "res2b_branch2c (Conv2D)         (None, 55, 55, 256)  16640       activation_14[0][0]              \n",
      "__________________________________________________________________________________________________\n",
      "bn2b_branch2c (BatchNormalizati (None, 55, 55, 256)  1024        res2b_branch2c[0][0]             \n",
      "__________________________________________________________________________________________________\n",
      "add_2 (Add)                     (None, 55, 55, 256)  0           bn2b_branch2c[0][0]              \n",
      "                                                                 activation_12[0][0]              \n",
      "__________________________________________________________________________________________________\n",
      "activation_15 (Activation)      (None, 55, 55, 256)  0           add_2[0][0]                      \n",
      "__________________________________________________________________________________________________\n",
      "res2c_branch2a (Conv2D)         (None, 55, 55, 64)   16448       activation_15[0][0]              \n",
      "__________________________________________________________________________________________________\n",
      "bn2c_branch2a (BatchNormalizati (None, 55, 55, 64)   256         res2c_branch2a[0][0]             \n",
      "__________________________________________________________________________________________________\n",
      "activation_16 (Activation)      (None, 55, 55, 64)   0           bn2c_branch2a[0][0]              \n",
      "__________________________________________________________________________________________________\n",
      "res2c_branch2b (Conv2D)         (None, 55, 55, 64)   36928       activation_16[0][0]              \n",
      "__________________________________________________________________________________________________\n",
      "bn2c_branch2b (BatchNormalizati (None, 55, 55, 64)   256         res2c_branch2b[0][0]             \n",
      "__________________________________________________________________________________________________\n",
      "activation_17 (Activation)      (None, 55, 55, 64)   0           bn2c_branch2b[0][0]              \n",
      "__________________________________________________________________________________________________\n",
      "res2c_branch2c (Conv2D)         (None, 55, 55, 256)  16640       activation_17[0][0]              \n",
      "__________________________________________________________________________________________________\n",
      "bn2c_branch2c (BatchNormalizati (None, 55, 55, 256)  1024        res2c_branch2c[0][0]             \n",
      "__________________________________________________________________________________________________\n",
      "add_3 (Add)                     (None, 55, 55, 256)  0           bn2c_branch2c[0][0]              \n",
      "                                                                 activation_15[0][0]              \n",
      "__________________________________________________________________________________________________\n",
      "activation_18 (Activation)      (None, 55, 55, 256)  0           add_3[0][0]                      \n",
      "__________________________________________________________________________________________________\n",
      "res3a_branch2a (Conv2D)         (None, 28, 28, 128)  32896       activation_18[0][0]              \n",
      "__________________________________________________________________________________________________\n",
      "bn3a_branch2a (BatchNormalizati (None, 28, 28, 128)  512         res3a_branch2a[0][0]             \n",
      "__________________________________________________________________________________________________\n",
      "activation_19 (Activation)      (None, 28, 28, 128)  0           bn3a_branch2a[0][0]              \n",
      "__________________________________________________________________________________________________\n",
      "res3a_branch2b (Conv2D)         (None, 28, 28, 128)  147584      activation_19[0][0]              \n",
      "__________________________________________________________________________________________________\n",
      "bn3a_branch2b (BatchNormalizati (None, 28, 28, 128)  512         res3a_branch2b[0][0]             \n",
      "__________________________________________________________________________________________________\n",
      "activation_20 (Activation)      (None, 28, 28, 128)  0           bn3a_branch2b[0][0]              \n",
      "__________________________________________________________________________________________________\n",
      "res3a_branch2c (Conv2D)         (None, 28, 28, 512)  66048       activation_20[0][0]              \n",
      "__________________________________________________________________________________________________\n",
      "res3a_branch1 (Conv2D)          (None, 28, 28, 512)  131584      activation_18[0][0]              \n",
      "__________________________________________________________________________________________________\n",
      "bn3a_branch2c (BatchNormalizati (None, 28, 28, 512)  2048        res3a_branch2c[0][0]             \n",
      "__________________________________________________________________________________________________\n",
      "bn3a_branch1 (BatchNormalizatio (None, 28, 28, 512)  2048        res3a_branch1[0][0]              \n",
      "__________________________________________________________________________________________________\n",
      "add_4 (Add)                     (None, 28, 28, 512)  0           bn3a_branch2c[0][0]              \n",
      "                                                                 bn3a_branch1[0][0]               \n",
      "__________________________________________________________________________________________________\n",
      "activation_21 (Activation)      (None, 28, 28, 512)  0           add_4[0][0]                      \n",
      "__________________________________________________________________________________________________\n",
      "res3b_branch2a (Conv2D)         (None, 28, 28, 128)  65664       activation_21[0][0]              \n",
      "__________________________________________________________________________________________________\n",
      "bn3b_branch2a (BatchNormalizati (None, 28, 28, 128)  512         res3b_branch2a[0][0]             \n",
      "__________________________________________________________________________________________________\n",
      "activation_22 (Activation)      (None, 28, 28, 128)  0           bn3b_branch2a[0][0]              \n",
      "__________________________________________________________________________________________________\n",
      "res3b_branch2b (Conv2D)         (None, 28, 28, 128)  147584      activation_22[0][0]              \n",
      "__________________________________________________________________________________________________\n",
      "bn3b_branch2b (BatchNormalizati (None, 28, 28, 128)  512         res3b_branch2b[0][0]             \n",
      "__________________________________________________________________________________________________\n",
      "activation_23 (Activation)      (None, 28, 28, 128)  0           bn3b_branch2b[0][0]              \n",
      "__________________________________________________________________________________________________\n",
      "res3b_branch2c (Conv2D)         (None, 28, 28, 512)  66048       activation_23[0][0]              \n",
      "__________________________________________________________________________________________________\n",
      "bn3b_branch2c (BatchNormalizati (None, 28, 28, 512)  2048        res3b_branch2c[0][0]             \n",
      "__________________________________________________________________________________________________\n",
      "add_5 (Add)                     (None, 28, 28, 512)  0           bn3b_branch2c[0][0]              \n",
      "                                                                 activation_21[0][0]              \n",
      "__________________________________________________________________________________________________\n",
      "activation_24 (Activation)      (None, 28, 28, 512)  0           add_5[0][0]                      \n",
      "__________________________________________________________________________________________________\n",
      "res3c_branch2a (Conv2D)         (None, 28, 28, 128)  65664       activation_24[0][0]              \n",
      "__________________________________________________________________________________________________\n",
      "bn3c_branch2a (BatchNormalizati (None, 28, 28, 128)  512         res3c_branch2a[0][0]             \n",
      "__________________________________________________________________________________________________\n",
      "activation_25 (Activation)      (None, 28, 28, 128)  0           bn3c_branch2a[0][0]              \n",
      "__________________________________________________________________________________________________\n",
      "res3c_branch2b (Conv2D)         (None, 28, 28, 128)  147584      activation_25[0][0]              \n",
      "__________________________________________________________________________________________________\n",
      "bn3c_branch2b (BatchNormalizati (None, 28, 28, 128)  512         res3c_branch2b[0][0]             \n",
      "__________________________________________________________________________________________________\n",
      "activation_26 (Activation)      (None, 28, 28, 128)  0           bn3c_branch2b[0][0]              \n",
      "__________________________________________________________________________________________________\n",
      "res3c_branch2c (Conv2D)         (None, 28, 28, 512)  66048       activation_26[0][0]              \n",
      "__________________________________________________________________________________________________\n",
      "bn3c_branch2c (BatchNormalizati (None, 28, 28, 512)  2048        res3c_branch2c[0][0]             \n",
      "__________________________________________________________________________________________________\n",
      "add_6 (Add)                     (None, 28, 28, 512)  0           bn3c_branch2c[0][0]              \n",
      "                                                                 activation_24[0][0]              \n",
      "__________________________________________________________________________________________________\n",
      "activation_27 (Activation)      (None, 28, 28, 512)  0           add_6[0][0]                      \n",
      "__________________________________________________________________________________________________\n",
      "res3d_branch2a (Conv2D)         (None, 28, 28, 128)  65664       activation_27[0][0]              \n",
      "__________________________________________________________________________________________________\n",
      "bn3d_branch2a (BatchNormalizati (None, 28, 28, 128)  512         res3d_branch2a[0][0]             \n",
      "__________________________________________________________________________________________________\n",
      "activation_28 (Activation)      (None, 28, 28, 128)  0           bn3d_branch2a[0][0]              \n",
      "__________________________________________________________________________________________________\n",
      "res3d_branch2b (Conv2D)         (None, 28, 28, 128)  147584      activation_28[0][0]              \n",
      "__________________________________________________________________________________________________\n",
      "bn3d_branch2b (BatchNormalizati (None, 28, 28, 128)  512         res3d_branch2b[0][0]             \n",
      "__________________________________________________________________________________________________\n",
      "activation_29 (Activation)      (None, 28, 28, 128)  0           bn3d_branch2b[0][0]              \n",
      "__________________________________________________________________________________________________\n",
      "res3d_branch2c (Conv2D)         (None, 28, 28, 512)  66048       activation_29[0][0]              \n",
      "__________________________________________________________________________________________________\n",
      "bn3d_branch2c (BatchNormalizati (None, 28, 28, 512)  2048        res3d_branch2c[0][0]             \n",
      "__________________________________________________________________________________________________\n",
      "add_7 (Add)                     (None, 28, 28, 512)  0           bn3d_branch2c[0][0]              \n",
      "                                                                 activation_27[0][0]              \n",
      "__________________________________________________________________________________________________\n",
      "activation_30 (Activation)      (None, 28, 28, 512)  0           add_7[0][0]                      \n",
      "__________________________________________________________________________________________________\n",
      "res4a_branch2a (Conv2D)         (None, 14, 14, 256)  131328      activation_30[0][0]              \n",
      "__________________________________________________________________________________________________\n",
      "bn4a_branch2a (BatchNormalizati (None, 14, 14, 256)  1024        res4a_branch2a[0][0]             \n",
      "__________________________________________________________________________________________________\n",
      "activation_31 (Activation)      (None, 14, 14, 256)  0           bn4a_branch2a[0][0]              \n",
      "__________________________________________________________________________________________________\n",
      "res4a_branch2b (Conv2D)         (None, 14, 14, 256)  590080      activation_31[0][0]              \n",
      "__________________________________________________________________________________________________\n",
      "bn4a_branch2b (BatchNormalizati (None, 14, 14, 256)  1024        res4a_branch2b[0][0]             \n",
      "__________________________________________________________________________________________________\n",
      "activation_32 (Activation)      (None, 14, 14, 256)  0           bn4a_branch2b[0][0]              \n",
      "__________________________________________________________________________________________________\n",
      "res4a_branch2c (Conv2D)         (None, 14, 14, 1024) 263168      activation_32[0][0]              \n",
      "__________________________________________________________________________________________________\n",
      "res4a_branch1 (Conv2D)          (None, 14, 14, 1024) 525312      activation_30[0][0]              \n",
      "__________________________________________________________________________________________________\n",
      "bn4a_branch2c (BatchNormalizati (None, 14, 14, 1024) 4096        res4a_branch2c[0][0]             \n",
      "__________________________________________________________________________________________________\n",
      "bn4a_branch1 (BatchNormalizatio (None, 14, 14, 1024) 4096        res4a_branch1[0][0]              \n",
      "__________________________________________________________________________________________________\n",
      "add_8 (Add)                     (None, 14, 14, 1024) 0           bn4a_branch2c[0][0]              \n",
      "                                                                 bn4a_branch1[0][0]               \n",
      "__________________________________________________________________________________________________\n",
      "activation_33 (Activation)      (None, 14, 14, 1024) 0           add_8[0][0]                      \n",
      "__________________________________________________________________________________________________\n",
      "res4b_branch2a (Conv2D)         (None, 14, 14, 256)  262400      activation_33[0][0]              \n",
      "__________________________________________________________________________________________________\n",
      "bn4b_branch2a (BatchNormalizati (None, 14, 14, 256)  1024        res4b_branch2a[0][0]             \n",
      "__________________________________________________________________________________________________\n",
      "activation_34 (Activation)      (None, 14, 14, 256)  0           bn4b_branch2a[0][0]              \n",
      "__________________________________________________________________________________________________\n",
      "res4b_branch2b (Conv2D)         (None, 14, 14, 256)  590080      activation_34[0][0]              \n",
      "__________________________________________________________________________________________________\n",
      "bn4b_branch2b (BatchNormalizati (None, 14, 14, 256)  1024        res4b_branch2b[0][0]             \n",
      "__________________________________________________________________________________________________\n",
      "activation_35 (Activation)      (None, 14, 14, 256)  0           bn4b_branch2b[0][0]              \n",
      "__________________________________________________________________________________________________\n",
      "res4b_branch2c (Conv2D)         (None, 14, 14, 1024) 263168      activation_35[0][0]              \n",
      "__________________________________________________________________________________________________\n",
      "bn4b_branch2c (BatchNormalizati (None, 14, 14, 1024) 4096        res4b_branch2c[0][0]             \n",
      "__________________________________________________________________________________________________\n",
      "add_9 (Add)                     (None, 14, 14, 1024) 0           bn4b_branch2c[0][0]              \n",
      "                                                                 activation_33[0][0]              \n",
      "__________________________________________________________________________________________________\n",
      "activation_36 (Activation)      (None, 14, 14, 1024) 0           add_9[0][0]                      \n",
      "__________________________________________________________________________________________________\n",
      "res4c_branch2a (Conv2D)         (None, 14, 14, 256)  262400      activation_36[0][0]              \n",
      "__________________________________________________________________________________________________\n",
      "bn4c_branch2a (BatchNormalizati (None, 14, 14, 256)  1024        res4c_branch2a[0][0]             \n",
      "__________________________________________________________________________________________________\n",
      "activation_37 (Activation)      (None, 14, 14, 256)  0           bn4c_branch2a[0][0]              \n",
      "__________________________________________________________________________________________________\n",
      "res4c_branch2b (Conv2D)         (None, 14, 14, 256)  590080      activation_37[0][0]              \n",
      "__________________________________________________________________________________________________\n",
      "bn4c_branch2b (BatchNormalizati (None, 14, 14, 256)  1024        res4c_branch2b[0][0]             \n",
      "__________________________________________________________________________________________________\n",
      "activation_38 (Activation)      (None, 14, 14, 256)  0           bn4c_branch2b[0][0]              \n",
      "__________________________________________________________________________________________________\n",
      "res4c_branch2c (Conv2D)         (None, 14, 14, 1024) 263168      activation_38[0][0]              \n",
      "__________________________________________________________________________________________________\n",
      "bn4c_branch2c (BatchNormalizati (None, 14, 14, 1024) 4096        res4c_branch2c[0][0]             \n",
      "__________________________________________________________________________________________________\n",
      "add_10 (Add)                    (None, 14, 14, 1024) 0           bn4c_branch2c[0][0]              \n",
      "                                                                 activation_36[0][0]              \n",
      "__________________________________________________________________________________________________\n",
      "activation_39 (Activation)      (None, 14, 14, 1024) 0           add_10[0][0]                     \n",
      "__________________________________________________________________________________________________\n",
      "res4d_branch2a (Conv2D)         (None, 14, 14, 256)  262400      activation_39[0][0]              \n",
      "__________________________________________________________________________________________________\n",
      "bn4d_branch2a (BatchNormalizati (None, 14, 14, 256)  1024        res4d_branch2a[0][0]             \n",
      "__________________________________________________________________________________________________\n",
      "activation_40 (Activation)      (None, 14, 14, 256)  0           bn4d_branch2a[0][0]              \n",
      "__________________________________________________________________________________________________\n",
      "res4d_branch2b (Conv2D)         (None, 14, 14, 256)  590080      activation_40[0][0]              \n",
      "__________________________________________________________________________________________________\n",
      "bn4d_branch2b (BatchNormalizati (None, 14, 14, 256)  1024        res4d_branch2b[0][0]             \n",
      "__________________________________________________________________________________________________\n",
      "activation_41 (Activation)      (None, 14, 14, 256)  0           bn4d_branch2b[0][0]              \n",
      "__________________________________________________________________________________________________\n",
      "res4d_branch2c (Conv2D)         (None, 14, 14, 1024) 263168      activation_41[0][0]              \n",
      "__________________________________________________________________________________________________\n",
      "bn4d_branch2c (BatchNormalizati (None, 14, 14, 1024) 4096        res4d_branch2c[0][0]             \n",
      "__________________________________________________________________________________________________\n",
      "add_11 (Add)                    (None, 14, 14, 1024) 0           bn4d_branch2c[0][0]              \n",
      "                                                                 activation_39[0][0]              \n",
      "__________________________________________________________________________________________________\n",
      "activation_42 (Activation)      (None, 14, 14, 1024) 0           add_11[0][0]                     \n",
      "__________________________________________________________________________________________________\n",
      "res4e_branch2a (Conv2D)         (None, 14, 14, 256)  262400      activation_42[0][0]              \n",
      "__________________________________________________________________________________________________\n",
      "bn4e_branch2a (BatchNormalizati (None, 14, 14, 256)  1024        res4e_branch2a[0][0]             \n",
      "__________________________________________________________________________________________________\n",
      "activation_43 (Activation)      (None, 14, 14, 256)  0           bn4e_branch2a[0][0]              \n",
      "__________________________________________________________________________________________________\n",
      "res4e_branch2b (Conv2D)         (None, 14, 14, 256)  590080      activation_43[0][0]              \n",
      "__________________________________________________________________________________________________\n",
      "bn4e_branch2b (BatchNormalizati (None, 14, 14, 256)  1024        res4e_branch2b[0][0]             \n",
      "__________________________________________________________________________________________________\n",
      "activation_44 (Activation)      (None, 14, 14, 256)  0           bn4e_branch2b[0][0]              \n",
      "__________________________________________________________________________________________________\n",
      "res4e_branch2c (Conv2D)         (None, 14, 14, 1024) 263168      activation_44[0][0]              \n",
      "__________________________________________________________________________________________________\n",
      "bn4e_branch2c (BatchNormalizati (None, 14, 14, 1024) 4096        res4e_branch2c[0][0]             \n",
      "__________________________________________________________________________________________________\n",
      "add_12 (Add)                    (None, 14, 14, 1024) 0           bn4e_branch2c[0][0]              \n",
      "                                                                 activation_42[0][0]              \n",
      "__________________________________________________________________________________________________\n",
      "activation_45 (Activation)      (None, 14, 14, 1024) 0           add_12[0][0]                     \n",
      "__________________________________________________________________________________________________\n",
      "res4f_branch2a (Conv2D)         (None, 14, 14, 256)  262400      activation_45[0][0]              \n",
      "__________________________________________________________________________________________________\n",
      "bn4f_branch2a (BatchNormalizati (None, 14, 14, 256)  1024        res4f_branch2a[0][0]             \n",
      "__________________________________________________________________________________________________\n",
      "activation_46 (Activation)      (None, 14, 14, 256)  0           bn4f_branch2a[0][0]              \n",
      "__________________________________________________________________________________________________\n",
      "res4f_branch2b (Conv2D)         (None, 14, 14, 256)  590080      activation_46[0][0]              \n",
      "__________________________________________________________________________________________________\n",
      "bn4f_branch2b (BatchNormalizati (None, 14, 14, 256)  1024        res4f_branch2b[0][0]             \n",
      "__________________________________________________________________________________________________\n",
      "activation_47 (Activation)      (None, 14, 14, 256)  0           bn4f_branch2b[0][0]              \n",
      "__________________________________________________________________________________________________\n",
      "res4f_branch2c (Conv2D)         (None, 14, 14, 1024) 263168      activation_47[0][0]              \n",
      "__________________________________________________________________________________________________\n",
      "bn4f_branch2c (BatchNormalizati (None, 14, 14, 1024) 4096        res4f_branch2c[0][0]             \n",
      "__________________________________________________________________________________________________\n",
      "add_13 (Add)                    (None, 14, 14, 1024) 0           bn4f_branch2c[0][0]              \n",
      "                                                                 activation_45[0][0]              \n",
      "__________________________________________________________________________________________________\n",
      "activation_48 (Activation)      (None, 14, 14, 1024) 0           add_13[0][0]                     \n",
      "__________________________________________________________________________________________________\n",
      "res5a_branch2a (Conv2D)         (None, 7, 7, 512)    524800      activation_48[0][0]              \n",
      "__________________________________________________________________________________________________\n",
      "bn5a_branch2a (BatchNormalizati (None, 7, 7, 512)    2048        res5a_branch2a[0][0]             \n",
      "__________________________________________________________________________________________________\n",
      "activation_49 (Activation)      (None, 7, 7, 512)    0           bn5a_branch2a[0][0]              \n",
      "__________________________________________________________________________________________________\n",
      "res5a_branch2b (Conv2D)         (None, 7, 7, 512)    2359808     activation_49[0][0]              \n",
      "__________________________________________________________________________________________________\n",
      "bn5a_branch2b (BatchNormalizati (None, 7, 7, 512)    2048        res5a_branch2b[0][0]             \n",
      "__________________________________________________________________________________________________\n",
      "activation_50 (Activation)      (None, 7, 7, 512)    0           bn5a_branch2b[0][0]              \n",
      "__________________________________________________________________________________________________\n",
      "res5a_branch2c (Conv2D)         (None, 7, 7, 2048)   1050624     activation_50[0][0]              \n",
      "__________________________________________________________________________________________________\n",
      "res5a_branch1 (Conv2D)          (None, 7, 7, 2048)   2099200     activation_48[0][0]              \n",
      "__________________________________________________________________________________________________\n",
      "bn5a_branch2c (BatchNormalizati (None, 7, 7, 2048)   8192        res5a_branch2c[0][0]             \n",
      "__________________________________________________________________________________________________\n",
      "bn5a_branch1 (BatchNormalizatio (None, 7, 7, 2048)   8192        res5a_branch1[0][0]              \n",
      "__________________________________________________________________________________________________\n",
      "add_14 (Add)                    (None, 7, 7, 2048)   0           bn5a_branch2c[0][0]              \n",
      "                                                                 bn5a_branch1[0][0]               \n",
      "__________________________________________________________________________________________________\n",
      "activation_51 (Activation)      (None, 7, 7, 2048)   0           add_14[0][0]                     \n",
      "__________________________________________________________________________________________________\n",
      "res5b_branch2a (Conv2D)         (None, 7, 7, 512)    1049088     activation_51[0][0]              \n",
      "__________________________________________________________________________________________________\n",
      "bn5b_branch2a (BatchNormalizati (None, 7, 7, 512)    2048        res5b_branch2a[0][0]             \n",
      "__________________________________________________________________________________________________\n",
      "activation_52 (Activation)      (None, 7, 7, 512)    0           bn5b_branch2a[0][0]              \n",
      "__________________________________________________________________________________________________\n",
      "res5b_branch2b (Conv2D)         (None, 7, 7, 512)    2359808     activation_52[0][0]              \n",
      "__________________________________________________________________________________________________\n",
      "bn5b_branch2b (BatchNormalizati (None, 7, 7, 512)    2048        res5b_branch2b[0][0]             \n",
      "__________________________________________________________________________________________________\n",
      "activation_53 (Activation)      (None, 7, 7, 512)    0           bn5b_branch2b[0][0]              \n",
      "__________________________________________________________________________________________________\n",
      "res5b_branch2c (Conv2D)         (None, 7, 7, 2048)   1050624     activation_53[0][0]              \n",
      "__________________________________________________________________________________________________\n",
      "bn5b_branch2c (BatchNormalizati (None, 7, 7, 2048)   8192        res5b_branch2c[0][0]             \n",
      "__________________________________________________________________________________________________\n",
      "add_15 (Add)                    (None, 7, 7, 2048)   0           bn5b_branch2c[0][0]              \n",
      "                                                                 activation_51[0][0]              \n",
      "__________________________________________________________________________________________________\n",
      "activation_54 (Activation)      (None, 7, 7, 2048)   0           add_15[0][0]                     \n",
      "__________________________________________________________________________________________________\n",
      "res5c_branch2a (Conv2D)         (None, 7, 7, 512)    1049088     activation_54[0][0]              \n",
      "__________________________________________________________________________________________________\n",
      "bn5c_branch2a (BatchNormalizati (None, 7, 7, 512)    2048        res5c_branch2a[0][0]             \n",
      "__________________________________________________________________________________________________\n",
      "activation_55 (Activation)      (None, 7, 7, 512)    0           bn5c_branch2a[0][0]              \n",
      "__________________________________________________________________________________________________\n",
      "res5c_branch2b (Conv2D)         (None, 7, 7, 512)    2359808     activation_55[0][0]              \n",
      "__________________________________________________________________________________________________\n",
      "bn5c_branch2b (BatchNormalizati (None, 7, 7, 512)    2048        res5c_branch2b[0][0]             \n",
      "__________________________________________________________________________________________________\n",
      "activation_56 (Activation)      (None, 7, 7, 512)    0           bn5c_branch2b[0][0]              \n",
      "__________________________________________________________________________________________________\n",
      "res5c_branch2c (Conv2D)         (None, 7, 7, 2048)   1050624     activation_56[0][0]              \n",
      "__________________________________________________________________________________________________\n",
      "bn5c_branch2c (BatchNormalizati (None, 7, 7, 2048)   8192        res5c_branch2c[0][0]             \n",
      "__________________________________________________________________________________________________\n",
      "add_16 (Add)                    (None, 7, 7, 2048)   0           bn5c_branch2c[0][0]              \n",
      "                                                                 activation_54[0][0]              \n",
      "__________________________________________________________________________________________________\n",
      "activation_57 (Activation)      (None, 7, 7, 2048)   0           add_16[0][0]                     \n",
      "__________________________________________________________________________________________________\n",
      "avg_pool (AveragePooling2D)     (None, 1, 1, 2048)   0           activation_57[0][0]              \n",
      "__________________________________________________________________________________________________\n",
      "flatten_3 (Flatten)             (None, 2048)         0           avg_pool[0][0]                   \n",
      "__________________________________________________________________________________________________\n",
      "fc1000 (Dense)                  (None, 10)           20490       flatten_3[0][0]                  \n",
      "==================================================================================================\n",
      "Total params: 23,608,202\n",
      "Trainable params: 23,555,082\n",
      "Non-trainable params: 53,120\n",
      "__________________________________________________________________________________________________\n"
     ]
    }
   ],
   "source": [
    "resnetmodel.summary()"
   ]
  },
  {
   "cell_type": "markdown",
   "metadata": {},
   "source": [
    "<span style=\"color:#337AFF;font-size:14px;font-weight:bold;\">MobileNet</span>"
   ]
  },
  {
   "cell_type": "code",
   "execution_count": 66,
   "metadata": {
    "collapsed": true
   },
   "outputs": [],
   "source": [
    "base_model = MobileNet(input_shape=None, alpha=1.0, depth_multiplier=1, dropout=1e-3,\\\n",
    "                       include_top=True, weights='imagenet', input_tensor=None, pooling=None)"
   ]
  },
  {
   "cell_type": "code",
   "execution_count": 67,
   "metadata": {
    "collapsed": true
   },
   "outputs": [],
   "source": [
    "x = base_model.output\n",
    "#x = Flatten()(x)\n",
    "predictions = Dense(num_classes, activation='softmax', name='fc10')(x)"
   ]
  },
  {
   "cell_type": "code",
   "execution_count": 68,
   "metadata": {
    "collapsed": true
   },
   "outputs": [],
   "source": [
    "mobilenetmodel = Model(input=base_model.input, output=predictions)\n",
    "estimators.append(('mobilenet', mobilenetmodel))"
   ]
  },
  {
   "cell_type": "code",
   "execution_count": 69,
   "metadata": {
    "collapsed": true
   },
   "outputs": [],
   "source": [
    "## Compile and fit model\n",
    "mobilenetmodel.compile(loss=loss, optimizer=optimizer, metrics=[metrics])\n",
    "earlyStop=EarlyStopping(monitor='val_acc', min_delta=0.001, patience=10, \\\n",
    "                          verbose=1, mode='auto')\n",
    "callback = [earlyStop]"
   ]
  },
  {
   "cell_type": "code",
   "execution_count": 70,
   "metadata": {},
   "outputs": [
    {
     "name": "stdout",
     "output_type": "stream",
     "text": [
      "_________________________________________________________________\n",
      "Layer (type)                 Output Shape              Param #   \n",
      "=================================================================\n",
      "input_3 (InputLayer)         (None, 224, 224, 3)       0         \n",
      "_________________________________________________________________\n",
      "conv1_pad (ZeroPadding2D)    (None, 226, 226, 3)       0         \n",
      "_________________________________________________________________\n",
      "conv1 (Conv2D)               (None, 112, 112, 32)      864       \n",
      "_________________________________________________________________\n",
      "conv1_bn (BatchNormalization (None, 112, 112, 32)      128       \n",
      "_________________________________________________________________\n",
      "conv1_relu (Activation)      (None, 112, 112, 32)      0         \n",
      "_________________________________________________________________\n",
      "conv_pad_1 (ZeroPadding2D)   (None, 114, 114, 32)      0         \n",
      "_________________________________________________________________\n",
      "conv_dw_1 (DepthwiseConv2D)  (None, 112, 112, 32)      288       \n",
      "_________________________________________________________________\n",
      "conv_dw_1_bn (BatchNormaliza (None, 112, 112, 32)      128       \n",
      "_________________________________________________________________\n",
      "conv_dw_1_relu (Activation)  (None, 112, 112, 32)      0         \n",
      "_________________________________________________________________\n",
      "conv_pw_1 (Conv2D)           (None, 112, 112, 64)      2048      \n",
      "_________________________________________________________________\n",
      "conv_pw_1_bn (BatchNormaliza (None, 112, 112, 64)      256       \n",
      "_________________________________________________________________\n",
      "conv_pw_1_relu (Activation)  (None, 112, 112, 64)      0         \n",
      "_________________________________________________________________\n",
      "conv_pad_2 (ZeroPadding2D)   (None, 114, 114, 64)      0         \n",
      "_________________________________________________________________\n",
      "conv_dw_2 (DepthwiseConv2D)  (None, 56, 56, 64)        576       \n",
      "_________________________________________________________________\n",
      "conv_dw_2_bn (BatchNormaliza (None, 56, 56, 64)        256       \n",
      "_________________________________________________________________\n",
      "conv_dw_2_relu (Activation)  (None, 56, 56, 64)        0         \n",
      "_________________________________________________________________\n",
      "conv_pw_2 (Conv2D)           (None, 56, 56, 128)       8192      \n",
      "_________________________________________________________________\n",
      "conv_pw_2_bn (BatchNormaliza (None, 56, 56, 128)       512       \n",
      "_________________________________________________________________\n",
      "conv_pw_2_relu (Activation)  (None, 56, 56, 128)       0         \n",
      "_________________________________________________________________\n",
      "conv_pad_3 (ZeroPadding2D)   (None, 58, 58, 128)       0         \n",
      "_________________________________________________________________\n",
      "conv_dw_3 (DepthwiseConv2D)  (None, 56, 56, 128)       1152      \n",
      "_________________________________________________________________\n",
      "conv_dw_3_bn (BatchNormaliza (None, 56, 56, 128)       512       \n",
      "_________________________________________________________________\n",
      "conv_dw_3_relu (Activation)  (None, 56, 56, 128)       0         \n",
      "_________________________________________________________________\n",
      "conv_pw_3 (Conv2D)           (None, 56, 56, 128)       16384     \n",
      "_________________________________________________________________\n",
      "conv_pw_3_bn (BatchNormaliza (None, 56, 56, 128)       512       \n",
      "_________________________________________________________________\n",
      "conv_pw_3_relu (Activation)  (None, 56, 56, 128)       0         \n",
      "_________________________________________________________________\n",
      "conv_pad_4 (ZeroPadding2D)   (None, 58, 58, 128)       0         \n",
      "_________________________________________________________________\n",
      "conv_dw_4 (DepthwiseConv2D)  (None, 28, 28, 128)       1152      \n",
      "_________________________________________________________________\n",
      "conv_dw_4_bn (BatchNormaliza (None, 28, 28, 128)       512       \n",
      "_________________________________________________________________\n",
      "conv_dw_4_relu (Activation)  (None, 28, 28, 128)       0         \n",
      "_________________________________________________________________\n",
      "conv_pw_4 (Conv2D)           (None, 28, 28, 256)       32768     \n",
      "_________________________________________________________________\n",
      "conv_pw_4_bn (BatchNormaliza (None, 28, 28, 256)       1024      \n",
      "_________________________________________________________________\n",
      "conv_pw_4_relu (Activation)  (None, 28, 28, 256)       0         \n",
      "_________________________________________________________________\n",
      "conv_pad_5 (ZeroPadding2D)   (None, 30, 30, 256)       0         \n",
      "_________________________________________________________________\n",
      "conv_dw_5 (DepthwiseConv2D)  (None, 28, 28, 256)       2304      \n",
      "_________________________________________________________________\n",
      "conv_dw_5_bn (BatchNormaliza (None, 28, 28, 256)       1024      \n",
      "_________________________________________________________________\n",
      "conv_dw_5_relu (Activation)  (None, 28, 28, 256)       0         \n",
      "_________________________________________________________________\n",
      "conv_pw_5 (Conv2D)           (None, 28, 28, 256)       65536     \n",
      "_________________________________________________________________\n",
      "conv_pw_5_bn (BatchNormaliza (None, 28, 28, 256)       1024      \n",
      "_________________________________________________________________\n",
      "conv_pw_5_relu (Activation)  (None, 28, 28, 256)       0         \n",
      "_________________________________________________________________\n",
      "conv_pad_6 (ZeroPadding2D)   (None, 30, 30, 256)       0         \n",
      "_________________________________________________________________\n",
      "conv_dw_6 (DepthwiseConv2D)  (None, 14, 14, 256)       2304      \n",
      "_________________________________________________________________\n",
      "conv_dw_6_bn (BatchNormaliza (None, 14, 14, 256)       1024      \n",
      "_________________________________________________________________\n",
      "conv_dw_6_relu (Activation)  (None, 14, 14, 256)       0         \n",
      "_________________________________________________________________\n",
      "conv_pw_6 (Conv2D)           (None, 14, 14, 512)       131072    \n",
      "_________________________________________________________________\n",
      "conv_pw_6_bn (BatchNormaliza (None, 14, 14, 512)       2048      \n",
      "_________________________________________________________________\n",
      "conv_pw_6_relu (Activation)  (None, 14, 14, 512)       0         \n",
      "_________________________________________________________________\n",
      "conv_pad_7 (ZeroPadding2D)   (None, 16, 16, 512)       0         \n",
      "_________________________________________________________________\n",
      "conv_dw_7 (DepthwiseConv2D)  (None, 14, 14, 512)       4608      \n",
      "_________________________________________________________________\n",
      "conv_dw_7_bn (BatchNormaliza (None, 14, 14, 512)       2048      \n",
      "_________________________________________________________________\n",
      "conv_dw_7_relu (Activation)  (None, 14, 14, 512)       0         \n",
      "_________________________________________________________________\n",
      "conv_pw_7 (Conv2D)           (None, 14, 14, 512)       262144    \n",
      "_________________________________________________________________\n",
      "conv_pw_7_bn (BatchNormaliza (None, 14, 14, 512)       2048      \n",
      "_________________________________________________________________\n",
      "conv_pw_7_relu (Activation)  (None, 14, 14, 512)       0         \n",
      "_________________________________________________________________\n",
      "conv_pad_8 (ZeroPadding2D)   (None, 16, 16, 512)       0         \n",
      "_________________________________________________________________\n",
      "conv_dw_8 (DepthwiseConv2D)  (None, 14, 14, 512)       4608      \n",
      "_________________________________________________________________\n",
      "conv_dw_8_bn (BatchNormaliza (None, 14, 14, 512)       2048      \n",
      "_________________________________________________________________\n",
      "conv_dw_8_relu (Activation)  (None, 14, 14, 512)       0         \n",
      "_________________________________________________________________\n",
      "conv_pw_8 (Conv2D)           (None, 14, 14, 512)       262144    \n",
      "_________________________________________________________________\n",
      "conv_pw_8_bn (BatchNormaliza (None, 14, 14, 512)       2048      \n",
      "_________________________________________________________________\n",
      "conv_pw_8_relu (Activation)  (None, 14, 14, 512)       0         \n",
      "_________________________________________________________________\n",
      "conv_pad_9 (ZeroPadding2D)   (None, 16, 16, 512)       0         \n",
      "_________________________________________________________________\n",
      "conv_dw_9 (DepthwiseConv2D)  (None, 14, 14, 512)       4608      \n",
      "_________________________________________________________________\n",
      "conv_dw_9_bn (BatchNormaliza (None, 14, 14, 512)       2048      \n",
      "_________________________________________________________________\n",
      "conv_dw_9_relu (Activation)  (None, 14, 14, 512)       0         \n",
      "_________________________________________________________________\n",
      "conv_pw_9 (Conv2D)           (None, 14, 14, 512)       262144    \n",
      "_________________________________________________________________\n",
      "conv_pw_9_bn (BatchNormaliza (None, 14, 14, 512)       2048      \n",
      "_________________________________________________________________\n",
      "conv_pw_9_relu (Activation)  (None, 14, 14, 512)       0         \n",
      "_________________________________________________________________\n",
      "conv_pad_10 (ZeroPadding2D)  (None, 16, 16, 512)       0         \n",
      "_________________________________________________________________\n",
      "conv_dw_10 (DepthwiseConv2D) (None, 14, 14, 512)       4608      \n",
      "_________________________________________________________________\n",
      "conv_dw_10_bn (BatchNormaliz (None, 14, 14, 512)       2048      \n",
      "_________________________________________________________________\n",
      "conv_dw_10_relu (Activation) (None, 14, 14, 512)       0         \n",
      "_________________________________________________________________\n",
      "conv_pw_10 (Conv2D)          (None, 14, 14, 512)       262144    \n",
      "_________________________________________________________________\n",
      "conv_pw_10_bn (BatchNormaliz (None, 14, 14, 512)       2048      \n",
      "_________________________________________________________________\n",
      "conv_pw_10_relu (Activation) (None, 14, 14, 512)       0         \n",
      "_________________________________________________________________\n",
      "conv_pad_11 (ZeroPadding2D)  (None, 16, 16, 512)       0         \n",
      "_________________________________________________________________\n",
      "conv_dw_11 (DepthwiseConv2D) (None, 14, 14, 512)       4608      \n",
      "_________________________________________________________________\n",
      "conv_dw_11_bn (BatchNormaliz (None, 14, 14, 512)       2048      \n",
      "_________________________________________________________________\n",
      "conv_dw_11_relu (Activation) (None, 14, 14, 512)       0         \n",
      "_________________________________________________________________\n",
      "conv_pw_11 (Conv2D)          (None, 14, 14, 512)       262144    \n",
      "_________________________________________________________________\n",
      "conv_pw_11_bn (BatchNormaliz (None, 14, 14, 512)       2048      \n",
      "_________________________________________________________________\n",
      "conv_pw_11_relu (Activation) (None, 14, 14, 512)       0         \n",
      "_________________________________________________________________\n",
      "conv_pad_12 (ZeroPadding2D)  (None, 16, 16, 512)       0         \n",
      "_________________________________________________________________\n",
      "conv_dw_12 (DepthwiseConv2D) (None, 7, 7, 512)         4608      \n",
      "_________________________________________________________________\n",
      "conv_dw_12_bn (BatchNormaliz (None, 7, 7, 512)         2048      \n",
      "_________________________________________________________________\n",
      "conv_dw_12_relu (Activation) (None, 7, 7, 512)         0         \n",
      "_________________________________________________________________\n",
      "conv_pw_12 (Conv2D)          (None, 7, 7, 1024)        524288    \n",
      "_________________________________________________________________\n",
      "conv_pw_12_bn (BatchNormaliz (None, 7, 7, 1024)        4096      \n",
      "_________________________________________________________________\n",
      "conv_pw_12_relu (Activation) (None, 7, 7, 1024)        0         \n",
      "_________________________________________________________________\n",
      "conv_pad_13 (ZeroPadding2D)  (None, 9, 9, 1024)        0         \n",
      "_________________________________________________________________\n",
      "conv_dw_13 (DepthwiseConv2D) (None, 7, 7, 1024)        9216      \n",
      "_________________________________________________________________\n",
      "conv_dw_13_bn (BatchNormaliz (None, 7, 7, 1024)        4096      \n",
      "_________________________________________________________________\n",
      "conv_dw_13_relu (Activation) (None, 7, 7, 1024)        0         \n",
      "_________________________________________________________________\n",
      "conv_pw_13 (Conv2D)          (None, 7, 7, 1024)        1048576   \n",
      "_________________________________________________________________\n",
      "conv_pw_13_bn (BatchNormaliz (None, 7, 7, 1024)        4096      \n",
      "_________________________________________________________________\n",
      "conv_pw_13_relu (Activation) (None, 7, 7, 1024)        0         \n",
      "_________________________________________________________________\n",
      "global_average_pooling2d_1 ( (None, 1024)              0         \n",
      "_________________________________________________________________\n",
      "reshape_1 (Reshape)          (None, 1, 1, 1024)        0         \n",
      "_________________________________________________________________\n",
      "dropout (Dropout)            (None, 1, 1, 1024)        0         \n",
      "_________________________________________________________________\n",
      "conv_preds (Conv2D)          (None, 1, 1, 1000)        1025000   \n",
      "_________________________________________________________________\n",
      "act_softmax (Activation)     (None, 1, 1, 1000)        0         \n",
      "_________________________________________________________________\n",
      "reshape_2 (Reshape)          (None, 1000)              0         \n",
      "_________________________________________________________________\n",
      "fc10 (Dense)                 (None, 10)                10010     \n",
      "=================================================================\n",
      "Total params: 4,263,874\n",
      "Trainable params: 4,241,986\n",
      "Non-trainable params: 21,888\n",
      "_________________________________________________________________\n"
     ]
    }
   ],
   "source": [
    "mobilenetmodel.summary()"
   ]
  },
  {
   "cell_type": "markdown",
   "metadata": {},
   "source": [
    "<span style=\"color:#337AFF;font-size:18px;font-weight:bold;\">Training Models</span>"
   ]
  },
  {
   "cell_type": "code",
   "execution_count": 71,
   "metadata": {
    "collapsed": true
   },
   "outputs": [],
   "source": [
    "vgg16_fixed_model = vgg16model.fit(X_train,Y_train, batch_size=batch_size, nb_epoch=num_epochs,\\\n",
    "                        verbose=1, validation_data=(X_test,Y_test), callbacks=callback)"
   ]
  },
  {
   "cell_type": "code",
   "execution_count": 72,
   "metadata": {
    "collapsed": true
   },
   "outputs": [],
   "source": [
    "save_model(\"/mnt/home/kumar.manjushree_gmail/Capstone/\", vgg16model, 0, cross='vgg16')"
   ]
  },
  {
   "cell_type": "code",
   "execution_count": 73,
   "metadata": {
    "collapsed": true
   },
   "outputs": [],
   "source": [
    "print(vgg16_fixed_model.history.keys())\n",
    "# summarize history for accuracy\n",
    "plt.plot(vgg16_fixed_model.history['acc'])\n",
    "plt.plot(vgg16_fixed_model.history['val_acc'])\n",
    "plt.title('model accuracy')\n",
    "plt.ylabel('accuracy')\n",
    "plt.xlabel('epoch')\n",
    "plt.legend(['train', 'test'], loc='upper left')\n",
    "plt.show()\n",
    "# summarize history for loss\n",
    "plt.plot(vgg16_fixed_model.history['loss'])\n",
    "plt.plot(vgg16_fixed_model.history['val_loss'])\n",
    "plt.title('model loss')\n",
    "plt.ylabel('loss')\n",
    "plt.xlabel('epoch')\n",
    "plt.legend(['train', 'test'], loc='upper left')\n",
    "plt.show()"
   ]
  },
  {
   "cell_type": "code",
   "execution_count": 74,
   "metadata": {
    "collapsed": true
   },
   "outputs": [],
   "source": [
    "alexnetmodel_fixed_model = alexnetmodel.fit(X_train,Y_train, batch_size=batch_size, nb_epoch=num_epochs,\\\n",
    "                       verbose=1, validation_data=(X_test,Y_test), callbacks=callback)"
   ]
  },
  {
   "cell_type": "code",
   "execution_count": 75,
   "metadata": {
    "collapsed": true
   },
   "outputs": [],
   "source": [
    "save_model(\"/mnt/home/kumar.manjushree_gmail/Capstone/\", alexnetmodel, 0, cross='alexnet')"
   ]
  },
  {
   "cell_type": "code",
   "execution_count": 76,
   "metadata": {
    "collapsed": true
   },
   "outputs": [],
   "source": [
    "print(alexnetmodel_fixed_model.history.keys())\n",
    "# summarize history for accuracy\n",
    "plt.plot(alexnetmodel_fixed_model.history['acc'])\n",
    "plt.plot(alexnetmodel_fixed_model.history['val_acc'])\n",
    "plt.title('model accuracy')\n",
    "plt.ylabel('accuracy')\n",
    "plt.xlabel('epoch')\n",
    "plt.legend(['train', 'test'], loc='upper left')\n",
    "plt.show()\n",
    "# summarize history for loss\n",
    "plt.plot(alexnetmodel_fixed_model.history['loss'])\n",
    "plt.plot(alexnetmodel_fixed_model.history['val_loss'])\n",
    "plt.title('model loss')\n",
    "plt.ylabel('loss')\n",
    "plt.xlabel('epoch')\n",
    "plt.legend(['train', 'test'], loc='upper left')\n",
    "plt.show()"
   ]
  },
  {
   "cell_type": "code",
   "execution_count": 80,
   "metadata": {
    "collapsed": true
   },
   "outputs": [],
   "source": [
    "loss=\"categorical_crossentropy\"\n",
    "optimizer=\"adam\"\n",
    "metrics=\"accuracy\"\n",
    "batch_size = 64\n",
    "num_epochs = 50\n",
    "validation_split=0.2\n",
    "estimators=[]"
   ]
  },
  {
   "cell_type": "code",
   "execution_count": 81,
   "metadata": {},
   "outputs": [
    {
     "name": "stdout",
     "output_type": "stream",
     "text": [
      "Train on 2100 samples, validate on 900 samples\n",
      "Epoch 1/50\n",
      "2100/2100 [==============================] - 1464s 697ms/step - loss: 2.6556 - acc: 0.1676 - val_loss: 8.0283 - val_acc: 0.1033\n",
      "Epoch 2/50\n",
      "2100/2100 [==============================] - 1455s 693ms/step - loss: 2.4950 - acc: 0.2014 - val_loss: 14.4526 - val_acc: 0.1033\n",
      "Epoch 3/50\n",
      "2100/2100 [==============================] - 1454s 692ms/step - loss: 2.6096 - acc: 0.1362 - val_loss: 12.9021 - val_acc: 0.1122\n",
      "Epoch 4/50\n",
      "2100/2100 [==============================] - 1461s 696ms/step - loss: 2.4879 - acc: 0.1562 - val_loss: 8.2899 - val_acc: 0.0822\n",
      "Epoch 5/50\n",
      "2100/2100 [==============================] - 1461s 696ms/step - loss: 2.3995 - acc: 0.1800 - val_loss: 2.3472 - val_acc: 0.1544\n",
      "Epoch 6/50\n",
      "2100/2100 [==============================] - 1453s 692ms/step - loss: 2.2890 - acc: 0.1990 - val_loss: 7.4878 - val_acc: 0.1122\n",
      "Epoch 7/50\n",
      "2100/2100 [==============================] - 1462s 696ms/step - loss: 2.2560 - acc: 0.2457 - val_loss: 14.3338 - val_acc: 0.0933\n",
      "Epoch 8/50\n",
      "2100/2100 [==============================] - 1456s 693ms/step - loss: 2.0889 - acc: 0.3214 - val_loss: 13.7224 - val_acc: 0.1089\n",
      "Epoch 9/50\n",
      "2100/2100 [==============================] - 1454s 692ms/step - loss: 1.9012 - acc: 0.3676 - val_loss: 2.7856 - val_acc: 0.2400\n",
      "Epoch 10/50\n",
      "2100/2100 [==============================] - 1455s 693ms/step - loss: 1.5430 - acc: 0.4624 - val_loss: 2.2480 - val_acc: 0.3400\n",
      "Epoch 11/50\n",
      "2100/2100 [==============================] - 1458s 694ms/step - loss: 1.1653 - acc: 0.5929 - val_loss: 1.5626 - val_acc: 0.5067\n",
      "Epoch 12/50\n",
      "2100/2100 [==============================] - 1458s 694ms/step - loss: 0.7509 - acc: 0.7548 - val_loss: 1.4091 - val_acc: 0.5444\n",
      "Epoch 13/50\n",
      "2100/2100 [==============================] - 1523s 725ms/step - loss: 0.4539 - acc: 0.8657 - val_loss: 1.2072 - val_acc: 0.6100\n",
      "Epoch 14/50\n",
      "2100/2100 [==============================] - 1454s 693ms/step - loss: 0.3183 - acc: 0.9067 - val_loss: 1.1135 - val_acc: 0.6511\n",
      "Epoch 15/50\n",
      "2100/2100 [==============================] - 1456s 693ms/step - loss: 0.1314 - acc: 0.9633 - val_loss: 0.7819 - val_acc: 0.7633\n",
      "Epoch 16/50\n",
      "2100/2100 [==============================] - 1458s 694ms/step - loss: 0.1124 - acc: 0.9671 - val_loss: 0.9411 - val_acc: 0.7178\n",
      "Epoch 17/50\n",
      "2100/2100 [==============================] - 1470s 700ms/step - loss: 0.1075 - acc: 0.9643 - val_loss: 0.7895 - val_acc: 0.7822\n",
      "Epoch 18/50\n",
      "2100/2100 [==============================] - 1460s 695ms/step - loss: 0.0658 - acc: 0.9838 - val_loss: 0.4759 - val_acc: 0.8767\n",
      "Epoch 19/50\n",
      "2100/2100 [==============================] - 1459s 695ms/step - loss: 0.0404 - acc: 0.9914 - val_loss: 1.1791 - val_acc: 0.7111\n",
      "Epoch 20/50\n",
      "2100/2100 [==============================] - 1459s 695ms/step - loss: 0.0236 - acc: 0.9933 - val_loss: 0.3770 - val_acc: 0.8789\n",
      "Epoch 21/50\n",
      "2100/2100 [==============================] - 1469s 700ms/step - loss: 0.0205 - acc: 0.9957 - val_loss: 0.2894 - val_acc: 0.9067\n",
      "Epoch 22/50\n",
      "2100/2100 [==============================] - 1473s 702ms/step - loss: 0.0230 - acc: 0.9948 - val_loss: 0.2886 - val_acc: 0.9189\n",
      "Epoch 23/50\n",
      "2100/2100 [==============================] - 1464s 697ms/step - loss: 0.0164 - acc: 0.9957 - val_loss: 0.5502 - val_acc: 0.8656\n",
      "Epoch 24/50\n",
      "2100/2100 [==============================] - 1525s 726ms/step - loss: 0.0160 - acc: 0.9962 - val_loss: 0.3665 - val_acc: 0.9011\n",
      "Epoch 25/50\n",
      "2100/2100 [==============================] - 1549s 738ms/step - loss: 0.0234 - acc: 0.9933 - val_loss: 0.4702 - val_acc: 0.8833\n",
      "Epoch 26/50\n",
      "2100/2100 [==============================] - 1725s 821ms/step - loss: 0.0388 - acc: 0.9890 - val_loss: 0.8521 - val_acc: 0.8278\n",
      "Epoch 00026: early stopping\n"
     ]
    }
   ],
   "source": [
    "resnetmodel_fixed_model = resnetmodel.fit(X_train,Y_train, batch_size=batch_size, nb_epoch=num_epochs,\\\n",
    "                        verbose=1, validation_data=(X_test,Y_test), callbacks=callback)"
   ]
  },
  {
   "cell_type": "code",
   "execution_count": 82,
   "metadata": {},
   "outputs": [
    {
     "name": "stdout",
     "output_type": "stream",
     "text": [
      "<keras.engine.training.Model object at 0x7ff2d65abe48>\n",
      "/mnt/home/kumar.manjushree_gmail/Capstone//cache\n"
     ]
    }
   ],
   "source": [
    "save_model(\"/mnt/home/kumar.manjushree_gmail/Capstone/\", resnetmodel, 1, cross='resnet')"
   ]
  },
  {
   "cell_type": "code",
   "execution_count": 83,
   "metadata": {},
   "outputs": [
    {
     "name": "stdout",
     "output_type": "stream",
     "text": [
      "dict_keys(['val_loss', 'val_acc', 'loss', 'acc'])\n"
     ]
    },
    {
     "data": {
      "image/png": "[encoded data removed]",
      "text/plain": [
       "<matplotlib.figure.Figure at 0x7ff2b6e612e8>"
      ]
     },
     "metadata": {},
     "output_type": "display_data"
    },
    {
     "data": {
      "image/png": "[encoded data removed]",
      "text/plain": [
       "<matplotlib.figure.Figure at 0x7ff2b6e0b1d0>"
      ]
     },
     "metadata": {},
     "output_type": "display_data"
    }
   ],
   "source": [
    "print(resnetmodel_fixed_model.history.keys())\n",
    "# summarize history for accuracy\n",
    "plt.plot(resnetmodel_fixed_model.history['acc'])\n",
    "plt.plot(resnetmodel_fixed_model.history['val_acc'])\n",
    "plt.title('model accuracy')\n",
    "plt.ylabel('accuracy')\n",
    "plt.xlabel('epoch')\n",
    "plt.legend(['train', 'test'], loc='upper left')\n",
    "plt.show()\n",
    "# summarize history for loss\n",
    "plt.plot(resnetmodel_fixed_model.history['loss'])\n",
    "plt.plot(resnetmodel_fixed_model.history['val_loss'])\n",
    "plt.title('model loss')\n",
    "plt.ylabel('loss')\n",
    "plt.xlabel('epoch')\n",
    "plt.legend(['train', 'test'], loc='upper left')\n",
    "plt.show()"
   ]
  },
  {
   "cell_type": "code",
   "execution_count": 84,
   "metadata": {},
   "outputs": [
    {
     "name": "stdout",
     "output_type": "stream",
     "text": [
      "Train on 2100 samples, validate on 900 samples\n",
      "Epoch 1/50\n",
      "2100/2100 [==============================] - 613s 292ms/step - loss: 2.2656 - acc: 0.2881 - val_loss: 2.2365 - val_acc: 0.4367\n",
      "Epoch 2/50\n",
      "2100/2100 [==============================] - 608s 289ms/step - loss: 2.2037 - acc: 0.5733 - val_loss: 2.1990 - val_acc: 0.5078\n",
      "Epoch 3/50\n",
      "2100/2100 [==============================] - 591s 281ms/step - loss: 2.1475 - acc: 0.6095 - val_loss: 2.2375 - val_acc: 0.2867\n",
      "Epoch 4/50\n",
      "2100/2100 [==============================] - 597s 285ms/step - loss: 2.0927 - acc: 0.6471 - val_loss: 2.2160 - val_acc: 0.3067\n",
      "Epoch 5/50\n",
      "2100/2100 [==============================] - 601s 286ms/step - loss: 2.0431 - acc: 0.6533 - val_loss: 2.1257 - val_acc: 0.4211\n",
      "Epoch 6/50\n",
      "2100/2100 [==============================] - 594s 283ms/step - loss: 1.9932 - acc: 0.6510 - val_loss: 2.0839 - val_acc: 0.4978\n",
      "Epoch 7/50\n",
      "2100/2100 [==============================] - 600s 286ms/step - loss: 1.9531 - acc: 0.6452 - val_loss: 2.0415 - val_acc: 0.4956\n",
      "Epoch 8/50\n",
      "2100/2100 [==============================] - 612s 291ms/step - loss: 1.9019 - acc: 0.6629 - val_loss: 2.1591 - val_acc: 0.3222\n",
      "Epoch 9/50\n",
      "2100/2100 [==============================] - 602s 287ms/step - loss: 1.8589 - acc: 0.6662 - val_loss: 1.9760 - val_acc: 0.4944\n",
      "Epoch 10/50\n",
      "2100/2100 [==============================] - 604s 288ms/step - loss: 1.8157 - acc: 0.6705 - val_loss: 1.9720 - val_acc: 0.4933\n",
      "Epoch 11/50\n",
      "2100/2100 [==============================] - 597s 284ms/step - loss: 1.7536 - acc: 0.6938 - val_loss: 1.9084 - val_acc: 0.4844\n",
      "Epoch 12/50\n",
      "2100/2100 [==============================] - 626s 298ms/step - loss: 1.7170 - acc: 0.6867 - val_loss: 1.7223 - val_acc: 0.6489\n",
      "Epoch 13/50\n",
      "2100/2100 [==============================] - 609s 290ms/step - loss: 1.6866 - acc: 0.6833 - val_loss: 1.9051 - val_acc: 0.4500\n",
      "Epoch 14/50\n",
      "2100/2100 [==============================] - 600s 286ms/step - loss: 1.6594 - acc: 0.6767 - val_loss: 1.7657 - val_acc: 0.5600\n",
      "Epoch 15/50\n",
      "2100/2100 [==============================] - 602s 287ms/step - loss: 1.6251 - acc: 0.6833 - val_loss: 2.0782 - val_acc: 0.3200\n",
      "Epoch 16/50\n",
      "2100/2100 [==============================] - 619s 295ms/step - loss: 1.6100 - acc: 0.6629 - val_loss: 2.4149 - val_acc: 0.1189\n",
      "Epoch 17/50\n",
      "2100/2100 [==============================] - 599s 285ms/step - loss: 1.5516 - acc: 0.6805 - val_loss: 2.1349 - val_acc: 0.3189\n",
      "Epoch 00017: early stopping\n"
     ]
    }
   ],
   "source": [
    "mobilenetmodel_fixed_model = mobilenetmodel.fit(X_train,Y_train, batch_size=batch_size, nb_epoch=num_epochs,\\\n",
    "                        verbose=1, validation_data=(X_test,Y_test), callbacks=callback)"
   ]
  },
  {
   "cell_type": "code",
   "execution_count": 85,
   "metadata": {},
   "outputs": [
    {
     "name": "stdout",
     "output_type": "stream",
     "text": [
      "<keras.engine.training.Model object at 0x7ff2d72adbe0>\n",
      "/mnt/home/kumar.manjushree_gmail/Capstone//cache\n"
     ]
    }
   ],
   "source": [
    "save_model(\"/mnt/home/kumar.manjushree_gmail/Capstone/\", mobilenetmodel, 0, cross='mobilenet')"
   ]
  },
  {
   "cell_type": "code",
   "execution_count": null,
   "metadata": {
    "collapsed": true
   },
   "outputs": [],
   "source": [
    "print(mobilenetmodel_fixed_model.history.keys())\n",
    "# summarize history for accuracy\n",
    "plt.plot(mobilenetmodel_fixed_model.history['acc'])\n",
    "plt.plot(mobilenetmodel_fixed_model.history['val_acc'])\n",
    "plt.title('model accuracy')\n",
    "plt.ylabel('accuracy')\n",
    "plt.xlabel('epoch')\n",
    "plt.legend(['train', 'test'], loc='upper left')\n",
    "plt.show()\n",
    "# summarize history for loss\n",
    "plt.plot(mobilenetmodel_fixed_model.history['loss'])\n",
    "plt.plot(mobilenetmodel_fixed_model.history['val_loss'])\n",
    "plt.title('model loss')\n",
    "plt.ylabel('loss')\n",
    "plt.xlabel('epoch')\n",
    "plt.legend(['train', 'test'], loc='upper left')\n",
    "plt.show()"
   ]
  },
  {
   "cell_type": "markdown",
   "metadata": {
    "collapsed": true
   },
   "source": [
    "<span style=\"color:#337AFF;font-size:18px;font-weight:bold;\">Plotting accuracies and losses</span>"
   ]
  },
  {
   "cell_type": "code",
   "execution_count": null,
   "metadata": {
    "collapsed": true
   },
   "outputs": [],
   "source": [
    "#fixed_model=read_model_history(save_model_path,\"VGG19Pretrained\")"
   ]
  },
  {
   "cell_type": "code",
   "execution_count": null,
   "metadata": {
    "collapsed": true
   },
   "outputs": [],
   "source": [
    "import matplotlib.pyplot as plt"
   ]
  },
  {
   "cell_type": "code",
   "execution_count": null,
   "metadata": {
    "collapsed": true
   },
   "outputs": [],
   "source": [
    "#print(fixed_model.history.keys())\n",
    "# summarize history for accuracy\n",
    "plt.plot(vgg16_fixed_model.history['val_acc'])\n",
    "plt.plot(alexnetmodel_fixed_model.history['val_acc'])\n",
    "plt.plot(resnetmodel_fixed_model.history['val_acc'])\n",
    "plt.plot(mobilenetmodel_fixed_model.history['val_acc'])\n",
    "plt.title('model accuracies')\n",
    "plt.ylabel('accuracy')\n",
    "plt.xlabel('epoch')\n",
    "plt.legend(['vgg16', 'alexnet', 'resnet', 'mobilenet'], loc='upper left')\n",
    "plt.show()"
   ]
  },
  {
   "cell_type": "code",
   "execution_count": null,
   "metadata": {
    "collapsed": true
   },
   "outputs": [],
   "source": [
    "# summarize history for loss\n",
    "plt.plot(vgg16_fixed_model.history['val_loss'])\n",
    "plt.plot(alexnetmodel_fixed_model.history['val_loss'])\n",
    "plt.plot(resnetmodel_fixed_model.history['val_loss'])\n",
    "plt.plot(mobilenetmodel_fixed_model.history['val_loss'])\n",
    "plt.title('model losses')\n",
    "plt.ylabel('loss')\n",
    "plt.xlabel('epoch')\n",
    "plt.legend(['vgg16', 'alexnet', 'resnet', 'mobilenet'], loc='upper left')\n",
    "plt.show()"
   ]
  },
  {
   "cell_type": "markdown",
   "metadata": {},
   "source": [
    "<span style=\"color:#337AFF;font-size:18px;font-weight:bold;\">Confusion Matrices and Predictions</span>"
   ]
  },
  {
   "cell_type": "code",
   "execution_count": null,
   "metadata": {
    "collapsed": true
   },
   "outputs": [],
   "source": [
    "import seaborn as sns\n",
    "from sklearn.metrics import accuracy_score"
   ]
  },
  {
   "cell_type": "code",
   "execution_count": null,
   "metadata": {
    "collapsed": true
   },
   "outputs": [],
   "source": [
    "predictions = []\n",
    "model_name = \"VGG16Predictions\"\n",
    "extension = '.npy'\n",
    "prediction_path = './predictions/' + model_name + extension"
   ]
  },
  {
   "cell_type": "code",
   "execution_count": null,
   "metadata": {
    "collapsed": true
   },
   "outputs": [],
   "source": [
    "## Evaluate model\n",
    "#scores=model.evaluate(X_test, Y_test, verbose=1)\n",
    "#print(\"Loss \", scores[0], \"Accuracy \", scores[1])\n",
    "\n",
    "\n",
    "# Look at confusion matrix \n",
    "from sklearn.metrics import confusion_matrix"
   ]
  },
  {
   "cell_type": "code",
   "execution_count": null,
   "metadata": {
    "collapsed": true
   },
   "outputs": [],
   "source": [
    "# Predict the values from the validation dataset\n",
    "Y_pred = vgg16model.predict(X_test)\n",
    "np.save(prediction_path, Y_pred)\n",
    "# Convert predictions classes to one hot vectors \n",
    "Y_pred_classes = np.argmax(Y_pred,axis = 1) \n",
    "# Convert validation observations to one hot vectors\n",
    "Y_true = np.argmax(Y_test,axis = 1) \n",
    "# compute the confusion matrix\n",
    "confusion_mtx = confusion_matrix(Y_true, Y_pred_classes) \n",
    "# plot the confusion matrix\n",
    "ax = sns.heatmap(confusion_mtx)"
   ]
  },
  {
   "cell_type": "code",
   "execution_count": null,
   "metadata": {
    "collapsed": true
   },
   "outputs": [],
   "source": [
    "predictions.append(Y_pred)"
   ]
  },
  {
   "cell_type": "code",
   "execution_count": null,
   "metadata": {
    "collapsed": true
   },
   "outputs": [],
   "source": [
    "# Predict\n",
    "test_acc = round(accuracy_score(Y_test, Y_pred.round())*100)\n",
    "print(\"Test accuracy:\", test_acc)\n",
    "\n",
    "resultList = []\n",
    "classType = []\n",
    "for i in range(len(X_test)):\n",
    "    preds = Y_pred[i]\n",
    "    print(\"Predictions\", i, preds.round())\n",
    "    print(\"Labels\", i, Y_test[i])\n",
    "    if (np.argmax(preds.round()) == np.argmax(Y_test[i])):\n",
    "        resultList.append(\"right\")\n",
    "        classType.append(np.argmax(Y_test[i]))\n",
    "    else:\n",
    "        resultList.append(\"wrong\")\n",
    "        classType.append(np.argmax(Y_test[i]))"
   ]
  },
  {
   "cell_type": "code",
   "execution_count": null,
   "metadata": {
    "collapsed": true
   },
   "outputs": [],
   "source": [
    "class_df = pd.DataFrame(\n",
    "                            {\n",
    "                                'Class': classType,\n",
    "                                'Labels': Y_test[:,0],\n",
    "                                'Predictions'    : Y_pred[:,0],\n",
    "                                'Result': resultList\n",
    "                            }\n",
    "    )"
   ]
  },
  {
   "cell_type": "code",
   "execution_count": null,
   "metadata": {
    "collapsed": true
   },
   "outputs": [],
   "source": [
    "class_df.head(5)"
   ]
  },
  {
   "cell_type": "code",
   "execution_count": null,
   "metadata": {
    "collapsed": true
   },
   "outputs": [],
   "source": [
    "groupedClassResult = pd.DataFrame({'count' : class_df.groupby( [ \"Class\", \"Result\"] ).size()}).reset_index()\n",
    "groupedClassResult.shape\n",
    "groupedClass = pd.DataFrame({'count' : class_df.groupby( [ \"Class\"] ).size()}).reset_index()\n",
    "groupedClass.shape\n",
    "merged_inner = pd.merge(left=groupedClass,right=groupedClassResult, left_on='Class', right_on='Class')\n",
    "merged_inner.columns = ['Class', 'TotalCount', 'Result', 'ResultCount']"
   ]
  },
  {
   "cell_type": "code",
   "execution_count": null,
   "metadata": {
    "collapsed": true
   },
   "outputs": [],
   "source": [
    "merged_df = merged_inner.pivot_table('ResultCount', ['Class', 'TotalCount'], 'Result').fillna(0)\n",
    "merged_df['RightPrediction%'] = (merged_df['right']/(merged_df['right']+merged_df['wrong']))*100\n",
    "merged_df"
   ]
  },
  {
   "cell_type": "code",
   "execution_count": null,
   "metadata": {
    "collapsed": true
   },
   "outputs": [],
   "source": [
    "model_name = \"alexnetPredictions\"\n",
    "extension = '.npy'\n",
    "prediction_path = './predictions/' + model_name + extension"
   ]
  },
  {
   "cell_type": "code",
   "execution_count": null,
   "metadata": {
    "collapsed": true
   },
   "outputs": [],
   "source": [
    "\n",
    "# Predict the values from the validation dataset\n",
    "Y_pred = alexnetmodel.predict(X_test)\n",
    "np.save(prediction_path, Y_pred)\n",
    "# Convert predictions classes to one hot vectors \n",
    "Y_pred_classes = np.argmax(Y_pred,axis = 1) \n",
    "# Convert validation observations to one hot vectors\n",
    "Y_true = np.argmax(Y_test,axis = 1) \n",
    "# compute the confusion matrix\n",
    "confusion_mtx = confusion_matrix(Y_true, Y_pred_classes) \n",
    "# plot the confusion matrix\n",
    "ax = sns.heatmap(confusion_mtx)"
   ]
  },
  {
   "cell_type": "code",
   "execution_count": null,
   "metadata": {
    "collapsed": true
   },
   "outputs": [],
   "source": [
    "predictions.append(Y_pred)"
   ]
  },
  {
   "cell_type": "code",
   "execution_count": null,
   "metadata": {
    "collapsed": true
   },
   "outputs": [],
   "source": [
    "# Predict\n",
    "test_acc = round(accuracy_score(Y_test, Y_pred.round())*100)\n",
    "print(\"Test accuracy:\", test_acc)\n",
    "\n",
    "resultList = []\n",
    "classType = []\n",
    "for i in range(len(X_test)):\n",
    "    preds = Y_pred[i]\n",
    "    print(\"Predictions\", i, preds.round())\n",
    "    print(\"Labels\", i, Y_test[i])\n",
    "    if (np.argmax(preds.round()) == np.argmax(Y_test[i])):\n",
    "        resultList.append(\"right\")\n",
    "        classType.append(np.argmax(Y_test[i]))\n",
    "    else:\n",
    "        resultList.append(\"wrong\")\n",
    "        classType.append(np.argmax(Y_test[i]))"
   ]
  },
  {
   "cell_type": "code",
   "execution_count": null,
   "metadata": {
    "collapsed": true
   },
   "outputs": [],
   "source": [
    "class_df = pd.DataFrame(\n",
    "                            {\n",
    "                                'Class': classType,\n",
    "                                'Labels': Y_test[:,0],\n",
    "                                'Predictions'    : Y_pred[:,0],\n",
    "                                'Result': resultList\n",
    "                            }\n",
    "    )"
   ]
  },
  {
   "cell_type": "code",
   "execution_count": null,
   "metadata": {
    "collapsed": true
   },
   "outputs": [],
   "source": [
    "class_df.head(5)"
   ]
  },
  {
   "cell_type": "code",
   "execution_count": null,
   "metadata": {
    "collapsed": true
   },
   "outputs": [],
   "source": [
    "groupedClassResult = pd.DataFrame({'count' : class_df.groupby( [ \"Class\", \"Result\"] ).size()}).reset_index()\n",
    "groupedClassResult.shape\n",
    "groupedClass = pd.DataFrame({'count' : class_df.groupby( [ \"Class\"] ).size()}).reset_index()\n",
    "groupedClass.shape\n",
    "merged_inner = pd.merge(left=groupedClass,right=groupedClassResult, left_on='Class', right_on='Class')\n",
    "merged_inner.columns = ['Class', 'TotalCount', 'Result', 'ResultCount']"
   ]
  },
  {
   "cell_type": "code",
   "execution_count": null,
   "metadata": {
    "collapsed": true
   },
   "outputs": [],
   "source": [
    "merged_df = merged_inner.pivot_table('ResultCount', ['Class', 'TotalCount'], 'Result').fillna(0)\n",
    "merged_df['RightPrediction%'] = (merged_df['right']/(merged_df['right']+merged_df['wrong']))*100\n",
    "merged_df"
   ]
  },
  {
   "cell_type": "code",
   "execution_count": null,
   "metadata": {
    "collapsed": true
   },
   "outputs": [],
   "source": [
    "model_name = \"ResnetPredictions\"\n",
    "extension = '.npy'\n",
    "prediction_path = './predictions/' + model_name + extension"
   ]
  },
  {
   "cell_type": "code",
   "execution_count": null,
   "metadata": {
    "collapsed": true
   },
   "outputs": [],
   "source": [
    "\n",
    "# Predict the values from the validation dataset\n",
    "Y_pred = resnetmodel.predict(X_test)\n",
    "np.save(prediction_path, Y_pred)\n",
    "# Convert predictions classes to one hot vectors \n",
    "Y_pred_classes = np.argmax(Y_pred,axis = 1) \n",
    "# Convert validation observations to one hot vectors\n",
    "Y_true = np.argmax(Y_test,axis = 1) \n",
    "# compute the confusion matrix\n",
    "confusion_mtx = confusion_matrix(Y_true, Y_pred_classes) \n",
    "# plot the confusion matrix\n",
    "ax = sns.heatmap(confusion_mtx)"
   ]
  },
  {
   "cell_type": "code",
   "execution_count": null,
   "metadata": {
    "collapsed": true
   },
   "outputs": [],
   "source": [
    "predictions.append(Y_pred)"
   ]
  },
  {
   "cell_type": "code",
   "execution_count": null,
   "metadata": {
    "collapsed": true
   },
   "outputs": [],
   "source": [
    "# Predict\n",
    "test_acc = round(accuracy_score(Y_test, Y_pred.round())*100)\n",
    "print(\"Test accuracy:\", test_acc)\n",
    "\n",
    "resultList = []\n",
    "classType = []\n",
    "for i in range(len(X_test)):\n",
    "    preds = Y_pred[i]\n",
    "    print(\"Predictions\", i, preds.round())\n",
    "    print(\"Labels\", i, Y_test[i])\n",
    "    if (np.argmax(preds.round()) == np.argmax(Y_test[i])):\n",
    "        resultList.append(\"right\")\n",
    "        classType.append(np.argmax(Y_test[i]))\n",
    "    else:\n",
    "        resultList.append(\"wrong\")\n",
    "        classType.append(np.argmax(Y_test[i]))"
   ]
  },
  {
   "cell_type": "code",
   "execution_count": null,
   "metadata": {
    "collapsed": true
   },
   "outputs": [],
   "source": [
    "class_df = pd.DataFrame(\n",
    "                            {\n",
    "                                'Class': classType,\n",
    "                                'Labels': Y_test[:,0],\n",
    "                                'Predictions'    : Y_pred[:,0],\n",
    "                                'Result': resultList\n",
    "                            }\n",
    "    )"
   ]
  },
  {
   "cell_type": "code",
   "execution_count": null,
   "metadata": {
    "collapsed": true
   },
   "outputs": [],
   "source": [
    "class_df.head(5)"
   ]
  },
  {
   "cell_type": "code",
   "execution_count": null,
   "metadata": {
    "collapsed": true
   },
   "outputs": [],
   "source": [
    "groupedClassResult = pd.DataFrame({'count' : class_df.groupby( [ \"Class\", \"Result\"] ).size()}).reset_index()\n",
    "groupedClassResult.shape\n",
    "groupedClass = pd.DataFrame({'count' : class_df.groupby( [ \"Class\"] ).size()}).reset_index()\n",
    "groupedClass.shape\n",
    "merged_inner = pd.merge(left=groupedClass,right=groupedClassResult, left_on='Class', right_on='Class')\n",
    "merged_inner.columns = ['Class', 'TotalCount', 'Result', 'ResultCount']"
   ]
  },
  {
   "cell_type": "code",
   "execution_count": null,
   "metadata": {
    "collapsed": true
   },
   "outputs": [],
   "source": [
    "merged_df = merged_inner.pivot_table('ResultCount', ['Class', 'TotalCount'], 'Result').fillna(0)\n",
    "merged_df['RightPrediction%'] = (merged_df['right']/(merged_df['right']+merged_df['wrong']))*100\n",
    "merged_df"
   ]
  },
  {
   "cell_type": "code",
   "execution_count": null,
   "metadata": {
    "collapsed": true
   },
   "outputs": [],
   "source": [
    "model_name = \"mobilenetpredictions\"\n",
    "extension = '.npy'\n",
    "prediction_path = './predictions/' + model_name + extension"
   ]
  },
  {
   "cell_type": "code",
   "execution_count": null,
   "metadata": {
    "collapsed": true
   },
   "outputs": [],
   "source": [
    "\n",
    "# Predict the values from the validation dataset\n",
    "Y_pred = mobilenetmodel.predict(X_test)\n",
    "np.save(prediction_path, Y_pred)\n",
    "# Convert predictions classes to one hot vectors \n",
    "Y_pred_classes = np.argmax(Y_pred,axis = 1) \n",
    "# Convert validation observations to one hot vectors\n",
    "Y_true = np.argmax(Y_test,axis = 1) \n",
    "# compute the confusion matrix\n",
    "confusion_mtx = confusion_matrix(Y_true, Y_pred_classes) \n",
    "# plot the confusion matrix\n",
    "ax = sns.heatmap(confusion_mtx)"
   ]
  },
  {
   "cell_type": "code",
   "execution_count": null,
   "metadata": {
    "collapsed": true
   },
   "outputs": [],
   "source": [
    "predictions.append(Y_pred)"
   ]
  },
  {
   "cell_type": "code",
   "execution_count": null,
   "metadata": {
    "collapsed": true
   },
   "outputs": [],
   "source": [
    "# Predict\n",
    "test_acc = round(accuracy_score(Y_test, Y_pred.round())*100)\n",
    "print(\"Test accuracy:\", test_acc)\n",
    "\n",
    "resultList = []\n",
    "classType = []\n",
    "for i in range(len(X_test)):\n",
    "    preds = Y_pred[i]\n",
    "    print(\"Predictions\", i, preds.round())\n",
    "    print(\"Labels\", i, Y_test[i])\n",
    "    if (np.argmax(preds.round()) == np.argmax(Y_test[i])):\n",
    "        resultList.append(\"right\")\n",
    "        classType.append(np.argmax(Y_test[i]))\n",
    "    else:\n",
    "        resultList.append(\"wrong\")\n",
    "        classType.append(np.argmax(Y_test[i]))"
   ]
  },
  {
   "cell_type": "code",
   "execution_count": null,
   "metadata": {
    "collapsed": true
   },
   "outputs": [],
   "source": [
    "class_df = pd.DataFrame(\n",
    "                            {\n",
    "                                'Class': classType,\n",
    "                                'Labels': Y_test[:,0],\n",
    "                                'Predictions'    : Y_pred[:,0],\n",
    "                                'Result': resultList\n",
    "                            }\n",
    "    )"
   ]
  },
  {
   "cell_type": "code",
   "execution_count": null,
   "metadata": {
    "collapsed": true
   },
   "outputs": [],
   "source": [
    "class_df.head(5)"
   ]
  },
  {
   "cell_type": "code",
   "execution_count": null,
   "metadata": {
    "collapsed": true
   },
   "outputs": [],
   "source": [
    "groupedClassResult = pd.DataFrame({'count' : class_df.groupby( [ \"Class\", \"Result\"] ).size()}).reset_index()\n",
    "groupedClassResult.shape\n",
    "groupedClass = pd.DataFrame({'count' : class_df.groupby( [ \"Class\"] ).size()}).reset_index()\n",
    "groupedClass.shape\n",
    "merged_inner = pd.merge(left=groupedClass,right=groupedClassResult, left_on='Class', right_on='Class')\n",
    "merged_inner.columns = ['Class', 'TotalCount', 'Result', 'ResultCount']"
   ]
  },
  {
   "cell_type": "code",
   "execution_count": null,
   "metadata": {
    "collapsed": true
   },
   "outputs": [],
   "source": [
    "merged_df = merged_inner.pivot_table('ResultCount', ['Class', 'TotalCount'], 'Result').fillna(0)\n",
    "merged_df['RightPrediction%'] = (merged_df['right']/(merged_df['right']+merged_df['wrong']))*100\n",
    "merged_df"
   ]
  },
  {
   "cell_type": "markdown",
   "metadata": {},
   "source": [
    "<span style=\"color:#337AFF;font-size:18px;font-weight:bold;\">Ensembling</span>"
   ]
  },
  {
   "cell_type": "code",
   "execution_count": null,
   "metadata": {
    "collapsed": true
   },
   "outputs": [],
   "source": [
    "ensemble_accuracy = evaluate(unweighted_average_ensemble(predictions), Y_test)\n",
    "print('Accuracy by Unweighted Average Ensemble: ', ensemble_accuracy * 100, '%')"
   ]
  },
  {
   "cell_type": "code",
   "execution_count": null,
   "metadata": {
    "collapsed": true
   },
   "outputs": [],
   "source": [
    "ensemble_accuracy = evaluate(majority_voting_ensemble(predictions), Y_test)\n",
    "print('Accuracy by Majority Voting Ensemble: ', ensemble_accuracy * 100, '%')"
   ]
  },
  {
   "cell_type": "code",
   "execution_count": null,
   "metadata": {
    "collapsed": true
   },
   "outputs": [],
   "source": [
    "#vgg16classifier = KerasClassifier(vgg16model)\n",
    "#alexnetclassifier = KerasClassifier(alexnetmodel)\n",
    "#resnetclassifier = KerasClassifier(resnetmodel)\n",
    "#mobilenetclassifier = KerasClassifier(mobilenetmodel)"
   ]
  },
  {
   "cell_type": "code",
   "execution_count": null,
   "metadata": {
    "collapsed": true
   },
   "outputs": [],
   "source": [
    "#eclf = EnsembleVoteClassifier(clfs=[vgg16classifier, alexnetclassifier, resnetclassifier, mobilenetclassifier], weights=[1,1,1,1])"
   ]
  },
  {
   "cell_type": "code",
   "execution_count": null,
   "metadata": {
    "collapsed": true
   },
   "outputs": [],
   "source": [
    "#eclf.fit(X_train, Y_train[:,0])"
   ]
  },
  {
   "cell_type": "code",
   "execution_count": null,
   "metadata": {
    "collapsed": true
   },
   "outputs": [],
   "source": [
    "# generate a model from the layers above\n",
    "#model = Model(inputs=inputs, outputs=predictions)\n",
    "#model.compile(optimizer='adam',\n",
    "#              loss=loss,\n",
    "#              metrics=['accuracy'])"
   ]
  },
  {
   "cell_type": "code",
   "execution_count": null,
   "metadata": {
    "collapsed": true
   },
   "outputs": [],
   "source": [
    "#model.summary()"
   ]
  },
  {
   "cell_type": "code",
   "execution_count": null,
   "metadata": {
    "collapsed": true
   },
   "outputs": [],
   "source": [
    "#print(results.mean())"
   ]
  },
  {
   "cell_type": "markdown",
   "metadata": {},
   "source": [
    "<span style=\"color:#337AFF;font-size:18px;font-weight:bold;\">Predicting class of images using ensemble model</span>"
   ]
  },
  {
   "cell_type": "code",
   "execution_count": null,
   "metadata": {
    "collapsed": true
   },
   "outputs": [],
   "source": [
    "## List of images to predict\n",
    "input_images_list = fun_GetFilesList(\"/mnt/home/kumar.manjushree_gmail/Capstone/predict\")\n",
    "logging.debug(\"(input_images_list) :\".format(len(input_images_list)))\n",
    "print(\"(input_images_list) :\", len(input_images_list))"
   ]
  },
  {
   "cell_type": "code",
   "execution_count": null,
   "metadata": {
    "collapsed": true
   },
   "outputs": [],
   "source": [
    "(readFile, imageFileArray) = fun_ConvertImages(\n",
    "                            readFile=\"Predict_Images\",\n",
    "                            imageFilesList=input_images_list, \n",
    "                            resizeHeight=224, \n",
    "                            resizeWidth=224, \n",
    "                            isGrayScaledConversion=False\n",
    "                    )\n",
    "    "
   ]
  },
  {
   "cell_type": "code",
   "execution_count": null,
   "metadata": {
    "collapsed": true
   },
   "outputs": [],
   "source": [
    "## Convert train images to Array\n",
    "input_images = fun_ConvertImagesToArray(\n",
    "                   readFile,\n",
    "                   imageFileArray\n",
    "              )\n",
    "    \n",
    "input_images = input_images.astype('float32') "
   ]
  },
  {
   "cell_type": "code",
   "execution_count": null,
   "metadata": {
    "collapsed": true
   },
   "outputs": [],
   "source": [
    "# Normalise data to [0, 1] range\n",
    "input_images /= np.max(input_images)\n",
    "    \n",
    "logging.debug(\"(input_images) : ({0})\".format(input_images.shape))\n",
    "print(\"(input_images) : ({0})\".format(input_images.shape))"
   ]
  },
  {
   "cell_type": "code",
   "execution_count": null,
   "metadata": {
    "collapsed": true
   },
   "outputs": [],
   "source": [
    "predict_classes = mobilenetmodel.predict(input_images, batch_size=5, verbose=1)"
   ]
  },
  {
   "cell_type": "code",
   "execution_count": null,
   "metadata": {
    "collapsed": true
   },
   "outputs": [],
   "source": [
    "def classValue(x):\n",
    "    return {\n",
    "        0: \"Normal Driving\",\n",
    "        1: \"Texting - right\",\n",
    "        2: \"Talking on the phone - right\",\n",
    "        3: \"Texting - left\",\n",
    "        4: \"Talking on the phone - left\",\n",
    "        5: \"Operating the radio\",\n",
    "        6: \"Drinking\",\n",
    "        7: \"Reaching behind\",\n",
    "        8: \"Hair and makeup\",\n",
    "        9: \"Talking to passenger\"\n",
    "    }[x]"
   ]
  },
  {
   "cell_type": "code",
   "execution_count": null,
   "metadata": {
    "collapsed": true
   },
   "outputs": [],
   "source": [
    "vals=[]\n",
    "classNames=[]\n",
    "for val in predict_classes:\n",
    "    print(np.argmax(val))\n",
    "    vals.append(np.argmax(val))\n",
    "    classNames.append(classValue(np.argmax(val)))"
   ]
  },
  {
   "cell_type": "code",
   "execution_count": null,
   "metadata": {
    "collapsed": true
   },
   "outputs": [],
   "source": [
    "from PIL import Image\n",
    "from io import BytesIO\n",
    "from IPython.display import HTML\n",
    "import base64"
   ]
  },
  {
   "cell_type": "code",
   "execution_count": null,
   "metadata": {
    "collapsed": true
   },
   "outputs": [],
   "source": [
    "def image_formatter(im):\n",
    "    return f'<img src=\"data:image/jpeg;base64,{image_base64(im)}\">'"
   ]
  },
  {
   "cell_type": "code",
   "execution_count": null,
   "metadata": {
    "collapsed": true
   },
   "outputs": [],
   "source": [
    "def image_base64(im):\n",
    "    if isinstance(im, str):\n",
    "        im = get_thumbnail(im)\n",
    "    with BytesIO() as buffer:\n",
    "        im.save(buffer, 'jpeg')\n",
    "        return base64.b64encode(buffer.getvalue()).decode()"
   ]
  },
  {
   "cell_type": "code",
   "execution_count": null,
   "metadata": {
    "collapsed": true
   },
   "outputs": [],
   "source": [
    "def get_thumbnail(path):\n",
    "    i = Image.open(path)\n",
    "    i.thumbnail((150, 150), Image.LANCZOS)\n",
    "    return i"
   ]
  },
  {
   "cell_type": "code",
   "execution_count": null,
   "metadata": {
    "collapsed": true
   },
   "outputs": [],
   "source": [
    "predictions = pd.DataFrame(\n",
    "                            {\n",
    "                                'id':range(0,8),\n",
    "                                'Image': input_images_list,\n",
    "                                'Label': vals,\n",
    "                                'Description': classNames\n",
    "                            }\n",
    "    )\n",
    "\n",
    "predictions['dispimage'] = predictions.Image.map(lambda f: get_thumbnail(f))"
   ]
  },
  {
   "cell_type": "code",
   "execution_count": null,
   "metadata": {
    "collapsed": true
   },
   "outputs": [],
   "source": [
    "pd.set_option('display.max_colwidth', -1)"
   ]
  },
  {
   "cell_type": "code",
   "execution_count": null,
   "metadata": {
    "collapsed": true
   },
   "outputs": [],
   "source": [
    "# displaying PIL.Image objects embedded in dataframe\n",
    "HTML(predictions[['dispimage', 'Label', 'Description']].to_html(formatters={'dispimage': image_formatter}, escape=False))"
   ]
  },
  {
   "cell_type": "code",
   "execution_count": null,
   "metadata": {
    "collapsed": true
   },
   "outputs": [],
   "source": [
    "te = datetime.datetime.now()\n",
    "logging.info(\"Execution ended at - \" + te.strftime(\"%Y-%m-%d %H:%M:%S\"))\n",
    "timetaken=te-ts"
   ]
  },
  {
   "cell_type": "code",
   "execution_count": null,
   "metadata": {
    "collapsed": true
   },
   "outputs": [],
   "source": [
    "logging.info(\"Total time taken - \" + str(timetaken))"
   ]
  },
  {
   "cell_type": "code",
   "execution_count": null,
   "metadata": {
    "collapsed": true
   },
   "outputs": [],
   "source": []
  },
  {
   "cell_type": "code",
   "execution_count": null,
   "metadata": {
    "collapsed": true
   },
   "outputs": [],
   "source": []
  }
 ],
 "metadata": {
  "kernelspec": {
   "display_name": "Python 3",
   "language": "python",
   "name": "python3"
  },
  "language_info": {
   "codemirror_mode": {
    "name": "ipython",
    "version": 3
   },
   "file_extension": ".py",
   "mimetype": "text/x-python",
   "name": "python",
   "nbconvert_exporter": "python",
   "pygments_lexer": "ipython3",
   "version": "3.6.3"
  }
 },
 "nbformat": 4,
 "nbformat_minor": 2
}
